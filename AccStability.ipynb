{
 "cells": [
  {
   "attachments": {},
   "cell_type": "markdown",
   "metadata": {},
   "source": [
    "Code for acc stability analysis"
   ]
  },
  {
   "cell_type": "code",
   "execution_count": 19,
   "metadata": {},
   "outputs": [],
   "source": [
    "import pandas as pd\n",
    "import os\n",
    "from statistics import mean\n",
    "inputFileDir = \"D:/Covid_data_New/Yr2023/5May/12May\"\n",
    "listFiles = os.listdir(inputFileDir)\n",
    "#for files in listFiles:\n",
    "#    print(files)\n",
    "#print(listFiles)"
   ]
  },
  {
   "cell_type": "code",
   "execution_count": 25,
   "metadata": {},
   "outputs": [
    {
     "name": "stderr",
     "output_type": "stream",
     "text": [
      "d:\\Python\\lib\\site-packages\\openpyxl\\styles\\stylesheet.py:226: UserWarning: Workbook contains no default style, apply openpyxl's default\n",
      "  warn(\"Workbook contains no default style, apply openpyxl's default\")\n"
     ]
    }
   ],
   "source": [
    "exportedFile = inputFileDir+\"/20230403_SFSH_ACC_25C_PL01_0044_20230403_165653.xlsx\"\n",
    "readExportedFile = pd.read_excel(exportedFile,skiprows=26,sheet_name=\"Primary_result\")\n",
    "\n",
    "data = dict()\n",
    "\n",
    "for i in readExportedFile.index:\n",
    "    sample = readExportedFile.loc[i,\"Sample\"]\n",
    "    samples = str(sample).split(\"_TB\")\n",
    "    reporterDye = readExportedFile.loc[i,\"Reporter\"]\n",
    "    target = readExportedFile.loc[i,\"Target\"]\n",
    "    cqValue = readExportedFile.loc[i,\"Cq\"]\n",
    "    if cqValue != \"UNDETERMINED\":\n",
    "        cols = str(samples[0])+\"\\t\"+str(reporterDye)+\"\\t\"+str(target)\n",
    "        data.setdefault(cols,[]).append(cqValue)\n",
    "    \n",
    "excelwriter = pd.ExcelWriter(inputFileDir+\"/abba.xlsx\")\n",
    "dataFrame = pd.DataFrame()\n",
    "for key in data:\n",
    "    #print(key,mean(data.get(key)))\n",
    "    dataFrame = pd.DataFrame([key],[mean(data.get(key))])\n",
    "\n",
    "dataFrame.to_excel(excelwriter)\n",
    "excelwriter.close()"
   ]
  }
 ],
 "metadata": {
  "kernelspec": {
   "display_name": "Python 3",
   "language": "python",
   "name": "python3"
  },
  "language_info": {
   "codemirror_mode": {
    "name": "ipython",
    "version": 3
   },
   "file_extension": ".py",
   "mimetype": "text/x-python",
   "name": "python",
   "nbconvert_exporter": "python",
   "pygments_lexer": "ipython3",
   "version": "3.8.5"
  },
  "orig_nbformat": 4
 },
 "nbformat": 4,
 "nbformat_minor": 2
}
