{
 "cells": [
  {
   "cell_type": "markdown",
   "metadata": {},
   "source": []
  },
  {
   "attachments": {},
   "cell_type": "markdown",
   "metadata": {},
   "source": [
    "Read Exported files using pandas"
   ]
  },
  {
   "cell_type": "code",
   "execution_count": null,
   "metadata": {},
   "outputs": [
    {
     "name": "stderr",
     "output_type": "stream",
     "text": [
      "d:\\Python\\lib\\site-packages\\openpyxl\\styles\\stylesheet.py:226: UserWarning: Workbook contains no default style, apply openpyxl's default\n",
      "  warn(\"Workbook contains no default style, apply openpyxl's default\")\n"
     ]
    }
   ],
   "source": [
    "import pandas as pd\n",
    "import statistics\n",
    "lodFile = pd.read_excel(\"D:/Covid_data_New/Yr2023/Jan/Jan27/20230126_SFSH_LOD_QC_AN Plate1_QS7_0011_20230126_165330.xlsx\",sheet_name=\"Primary_result\",skiprows=26)\n",
    "lodFile = lodFile.replace(to_replace=\"UNDETERMINED\",value=43)"
   ]
  },
  {
   "cell_type": "code",
   "execution_count": 97,
   "metadata": {},
   "outputs": [
    {
     "name": "stdout",
     "output_type": "stream",
     "text": [
      "3x SARS-CoV-2\t0\t9\t0.00\t0.00\t0.00\n",
      "3x SARS-CoV-2\t0\t9\t0.00\t0.00\t0.00\n",
      "3x SARS-CoV-2\t8\t9\t88.89\t33.91\t0.21\n",
      "3x SARS-CoV-2\t0\t9\t0.00\t0.00\t0.00\n",
      "3x SARS-CoV-2\t8\t9\t88.89\t26.94\t0.05\n",
      "3x FluA H1N1 (1)\t3\t9\t33.33\t36.05\t1.02\n",
      "3x FluA H1N1 (1)\t0\t9\t0.00\t0.00\t0.00\n",
      "3x FluA H1N1 (1)\t0\t9\t0.00\t0.00\t0.00\n",
      "3x FluA H1N1 (1)\t0\t9\t0.00\t0.00\t0.00\n",
      "3x FluA H1N1 (1)\t9\t9\t100.00\t26.91\t0.08\n",
      "1x SARS-CoV-2\t0\t9\t0.00\t0.00\t0.00\n",
      "1x SARS-CoV-2\t0\t9\t0.00\t0.00\t0.00\n",
      "1x SARS-CoV-2\t8\t9\t88.89\t35.41\t0.52\n",
      "1x SARS-CoV-2\t0\t9\t0.00\t0.00\t0.00\n",
      "1x SARS-CoV-2\t9\t9\t100.00\t26.93\t0.03\n",
      "0.33x SARS-CoV-2\t0\t9\t0.00\t0.00\t0.00\n",
      "0.33x SARS-CoV-2\t0\t9\t0.00\t0.00\t0.00\n",
      "0.33x SARS-CoV-2\t7\t9\t77.78\t37.03\t0.57\n",
      "0.33x SARS-CoV-2\t0\t9\t0.00\t0.00\t0.00\n",
      "0.33x SARS-CoV-2\t9\t9\t100.00\t26.92\t0.08\n",
      "1x FluA H1N1 (1)\t0\t9\t0.00\t0.00\t0.00\n",
      "1x FluA H1N1 (1)\t0\t9\t0.00\t0.00\t0.00\n",
      "1x FluA H1N1 (1)\t0\t9\t0.00\t0.00\t0.00\n",
      "1x FluA H1N1 (1)\t0\t9\t0.00\t0.00\t0.00\n",
      "1x FluA H1N1 (1)\t9\t9\t100.00\t26.90\t0.07\n",
      "0.33x FluA H1N1 (1)\t0\t9\t0.00\t0.00\t0.00\n",
      "0.33x FluA H1N1 (1)\t0\t9\t0.00\t0.00\t0.00\n",
      "0.33x FluA H1N1 (1)\t0\t9\t0.00\t0.00\t0.00\n",
      "0.33x FluA H1N1 (1)\t0\t9\t0.00\t0.00\t0.00\n",
      "0.33x FluA H1N1 (1)\t9\t9\t100.00\t26.78\t0.10\n",
      "3x FluA H1N1 (2)\t9\t9\t100.00\t33.08\t0.50\n",
      "3x FluA H1N1 (2)\t0\t9\t0.00\t0.00\t0.00\n",
      "3x FluA H1N1 (2)\t0\t9\t0.00\t0.00\t0.00\n",
      "3x FluA H1N1 (2)\t0\t9\t0.00\t0.00\t0.00\n",
      "3x FluA H1N1 (2)\t9\t9\t100.00\t26.87\t0.10\n",
      "1x FluA H1N1 (2)\t8\t9\t88.89\t34.56\t1.10\n",
      "1x FluA H1N1 (2)\t0\t9\t0.00\t0.00\t0.00\n",
      "1x FluA H1N1 (2)\t0\t9\t0.00\t0.00\t0.00\n",
      "1x FluA H1N1 (2)\t0\t9\t0.00\t0.00\t0.00\n",
      "1x FluA H1N1 (2)\t9\t9\t100.00\t26.73\t0.10\n",
      "0.33x FluA H1N1 (2)\t4\t9\t44.44\t37.15\t0.25\n",
      "0.33x FluA H1N1 (2)\t0\t9\t0.00\t0.00\t0.00\n",
      "0.33x FluA H1N1 (2)\t0\t9\t0.00\t0.00\t0.00\n",
      "0.33x FluA H1N1 (2)\t0\t9\t0.00\t0.00\t0.00\n",
      "0.33x FluA H1N1 (2)\t9\t9\t100.00\t26.64\t0.14\n",
      "NEG\t0\t3\t0.00\t0.00\t0.00\n",
      "NEG\t0\t3\t0.00\t0.00\t0.00\n",
      "NEG\t0\t3\t0.00\t0.00\t0.00\n",
      "NEG\t0\t3\t0.00\t0.00\t0.00\n",
      "NEG\t3\t3\t100.00\t26.78\t0.20\n"
     ]
    }
   ],
   "source": [
    "targetThresholds={\"VIC\":38,\"ABY\":37,\"FAM\":38,\"ALEXA 647\":38,\"JUN\":33}\n",
    "targets = dict()\n",
    "\n",
    "for i in lodFile.index:\n",
    "    cqValue = lodFile.loc[i,\"Cq\"]\n",
    "    sampleName = lodFile.loc[i,\"Sample\"]\n",
    "    reporterDye = lodFile.loc[i,'Reporter']\n",
    "    if pd.isna(sampleName):\n",
    "        continue\n",
    "    if sampleName == \"PC\" or sampleName == \"NC\":\n",
    "        continue\n",
    "    string = sampleName+\"\\t\"+reporterDye\n",
    "    targets.setdefault(string,[]).append(cqValue)\n",
    "\n",
    "writer = pd.ExcelWriter(\"D:/Covid_data_New/Yr2023/Jan/Jan27/a.xlsx\")\n",
    "df_list = pd.DataFrame()\n",
    "text = open(\"D:/Covid_data_New/Yr2023/Jan/Jan27/a.txt\",\"w\")\n",
    "\n",
    "for d in targets:\n",
    "    s = d.split(\"\\t\")\n",
    "    clear = 0\n",
    "    strong = 0\n",
    "    total = 0\n",
    "    tpr = 0\n",
    "    data=[]\n",
    "    \n",
    "    for v in targets[d]:\n",
    "        total+=1\n",
    "        \n",
    "        if v < targetThresholds[s[1]]:\n",
    "            clear +=1\n",
    "            data.append(v)\n",
    "            #print(\"Clear\\t\",v)\n",
    "        tpr = float(clear/total) * 100\n",
    "    #print(s[0]+\"\\t\"+str(clear)+\"\\t\"+str(strong)+\"\\t\"+str(total),end=\"\\t\")\n",
    "    print(s[0]+\"\\t\"+str(clear)+\"\\t\"+str(total),end=\"\\t\")\n",
    "    print(\"%.2f\" % tpr,end=\"\\t\")\n",
    "    cqMaen = 0\n",
    "    cqSd = 0\n",
    "    if data:\n",
    "        cqMaen = statistics.mean(data)\n",
    "        cqSd = statistics.stdev(data)\n",
    "    print(\"%.2f\" % cqMaen+\"\\t\"+\"%.2f\" % cqSd)\n",
    "    text.write(s[0]+\"\\t\"+s[1]+\"\\t\"+str(clear)+\"\\t\"+str(total)+\"\\t\"+str(tpr)+\"\\t\"+str(cqMaen)+\"\\t\"+str(cqSd)+\"\\n\")\n",
    "    listL=[clear,total,tpr,cqMaen,cqSd]\n",
    "    dfx = pd.DataFrame([listL],index=[s[0]],columns=['Clean','Total','TPR','Mean','SD'])\n",
    "    df_list = pd.concat([df_list,dfx])\n",
    "\n",
    "df_list.to_excel(writer,sheet_name = \"Data1\")\n",
    "writer.close()\n",
    "text.close()\n"
   ]
  }
 ],
 "metadata": {
  "kernelspec": {
   "display_name": "Python 3",
   "language": "python",
   "name": "python3"
  },
  "language_info": {
   "codemirror_mode": {
    "name": "ipython",
    "version": 3
   },
   "file_extension": ".py",
   "mimetype": "text/x-python",
   "name": "python",
   "nbconvert_exporter": "python",
   "pygments_lexer": "ipython3",
   "version": "3.8.5 (tags/v3.8.5:580fbb0, Jul 20 2020, 15:57:54) [MSC v.1924 64 bit (AMD64)]"
  },
  "orig_nbformat": 4,
  "vscode": {
   "interpreter": {
    "hash": "2469a70536e4d2335a2ea8907942d0699c37342a371ac185bdb5b0aa6f073890"
   }
  }
 },
 "nbformat": 4,
 "nbformat_minor": 2
}
