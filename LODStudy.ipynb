{
 "cells": [
  {
   "cell_type": "markdown",
   "metadata": {},
   "source": []
  },
  {
   "attachments": {},
   "cell_type": "markdown",
   "metadata": {},
   "source": [
    "Read Exported files using pandas"
   ]
  },
  {
   "cell_type": "code",
   "execution_count": 38,
   "metadata": {},
   "outputs": [
    {
     "name": "stderr",
     "output_type": "stream",
     "text": [
      "d:\\Python\\lib\\site-packages\\openpyxl\\styles\\stylesheet.py:226: UserWarning: Workbook contains no default style, apply openpyxl's default\n",
      "  warn(\"Workbook contains no default style, apply openpyxl's default\")\n"
     ]
    }
   ],
   "source": [
    "import pandas as pd\n",
    "import statistics\n",
    "lodFile = pd.read_excel(\"D:/Covid_data_New/Yr2023/Jan/Jan27/AN/20230126_SFSH_LOD_QC_AN Plate1_QS7_0011_20230126_165330.xlsx\",sheet_name=\"Primary_result\",skiprows=26)\n",
    "lodFile = lodFile.replace(to_replace=\"UNDETERMINED\",value=43)"
   ]
  },
  {
   "cell_type": "code",
   "execution_count": 39,
   "metadata": {},
   "outputs": [],
   "source": [
    "targetThresholds={\"VIC\":38,\"ABY\":37,\"FAM\":38,\"ALEXA 647\":38,\"JUN\":33}\n",
    "targets = dict()\n",
    "\n",
    "for i in lodFile.index:\n",
    "    cqValue = lodFile.loc[i,\"Cq\"]\n",
    "    sampleName = lodFile.loc[i,\"Sample\"]\n",
    "    reporterDye = lodFile.loc[i,'Reporter']\n",
    "    if pd.isna(sampleName):\n",
    "        continue\n",
    "    if sampleName == \"PC\" or sampleName == \"NC\":\n",
    "        continue\n",
    "    string = sampleName+\"\\t\"+reporterDye\n",
    "    targets.setdefault(string,[]).append(cqValue)\n",
    "\n",
    "writer = pd.ExcelWriter(\"D:/Covid_data_New/Yr2023/Jan/Jan30/a.xlsx\")\n",
    "df_list = pd.DataFrame()\n",
    "text = open(\"D:/Covid_data_New/Yr2023/Jan/Jan27/AN/a.txt\",\"a\")\n",
    "\n",
    "for d in targets:\n",
    "    s = d.split(\"\\t\")\n",
    "    clear = 0\n",
    "    strong = 0\n",
    "    total = 0\n",
    "    tpr = 0\n",
    "    data=[]\n",
    "    \n",
    "    for v in targets[d]:\n",
    "        total+=1\n",
    "        if v < 43:\n",
    "            data.append(v)\n",
    "        if v < targetThresholds[s[1]]:\n",
    "            clear +=1\n",
    "        tpr = float(clear/total) * 100\n",
    "    cqMaen = 0\n",
    "    cqSd = 0\n",
    "    if data:\n",
    "        cqMaen =  \"%.3f\" % statistics.mean(data)\n",
    "        cqSd =  \"%.3f\" % statistics.stdev(data)\n",
    "    if tpr != 0:\n",
    "        tpr = \"%.2f\" % tpr\n",
    "    text.write(s[0]+\"\\t\"+s[1]+\"\\t\"+str(clear)+\"\\t\"+str(total)+\"\\t\"+str(tpr)+\"\\t\"+str(cqMaen)+\"\\t\"+str(cqSd)+\"\\n\")\n",
    "    listL=[clear,total,tpr,cqMaen,cqSd]\n",
    "    dfx = pd.DataFrame([listL],index=[s[0]],columns=['Clean','Total','TPR','Mean','SD'])\n",
    "    df_list = pd.concat([df_list,dfx])\n",
    "\n",
    "df_list.to_excel(writer,sheet_name = \"Data1\")\n",
    "writer.close()\n",
    "text.close()\n"
   ]
  }
 ],
 "metadata": {
  "kernelspec": {
   "display_name": "Python 3",
   "language": "python",
   "name": "python3"
  },
  "language_info": {
   "codemirror_mode": {
    "name": "ipython",
    "version": 3
   },
   "file_extension": ".py",
   "mimetype": "text/x-python",
   "name": "python",
   "nbconvert_exporter": "python",
   "pygments_lexer": "ipython3",
   "version": "3.8.5"
  },
  "orig_nbformat": 4,
  "vscode": {
   "interpreter": {
    "hash": "2469a70536e4d2335a2ea8907942d0699c37342a371ac185bdb5b0aa6f073890"
   }
  }
 },
 "nbformat": 4,
 "nbformat_minor": 2
}
