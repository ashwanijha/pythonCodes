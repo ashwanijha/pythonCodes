{
 "cells": [
  {
   "cell_type": "markdown",
   "metadata": {},
   "source": []
  },
  {
   "attachments": {},
   "cell_type": "markdown",
   "metadata": {},
   "source": [
    "Read Exported files using pandas"
   ]
  },
  {
   "cell_type": "code",
   "execution_count": 153,
   "metadata": {},
   "outputs": [
    {
     "name": "stderr",
     "output_type": "stream",
     "text": [
      "d:\\Python\\lib\\site-packages\\openpyxl\\styles\\stylesheet.py:226: UserWarning: Workbook contains no default style, apply openpyxl's default\n",
      "  warn(\"Workbook contains no default style, apply openpyxl's default\")\n"
     ]
    }
   ],
   "source": [
    "import pandas as pd\n",
    "import statistics\n",
    "lodFile = pd.read_excel(\"D:/Covid_data_New/Yr2023/Jan/Jan27/AN/20230126_SFSH_LOD_QC_AN Plate1_QS5_0046_20230126_165311.xlsx\",sheet_name=\"Primary_result\",skiprows=26)\n",
    "lodFile = lodFile.replace(to_replace=\"UNDETERMINED\",value=43)"
   ]
  },
  {
   "cell_type": "code",
   "execution_count": 154,
   "metadata": {},
   "outputs": [],
   "source": [
    "def getStatistics(data):\n",
    "    meaN = \"%.3f\" % statistics.mean(data)\n",
    "    stDev = \"%.3f\" % statistics.stdev(data)\n",
    "    return meaN, stDev"
   ]
  },
  {
   "cell_type": "code",
   "execution_count": 155,
   "metadata": {},
   "outputs": [],
   "source": [
    "def calcuateTPR(clear,total):\n",
    "    tpr = clear/total * 100\n",
    "    if 0 < tpr < 100:\n",
    "        tpr = \"%.2f\" % tpr\n",
    "    return tpr"
   ]
  },
  {
   "cell_type": "code",
   "execution_count": 156,
   "metadata": {},
   "outputs": [],
   "source": [
    "def getTargetCqValues(lodFile):\n",
    "    targets = dict()\n",
    "    for i in lodFile.index:\n",
    "        cqValue = lodFile.loc[i,\"Cq\"]\n",
    "        sampleName = lodFile.loc[i,\"Sample\"]\n",
    "        reporterDye = lodFile.loc[i,'Reporter']\n",
    "        if pd.isna(sampleName):\n",
    "            continue\n",
    "        if sampleName == \"PC\" or sampleName == \"NC\":\n",
    "            continue\n",
    "        string = sampleName+\"\\t\"+reporterDye\n",
    "        targets.setdefault(string,[]).append(cqValue)\n",
    "    return targets\n"
   ]
  },
  {
   "cell_type": "code",
   "execution_count": 158,
   "metadata": {},
   "outputs": [],
   "source": [
    "targetThresholds={\"VIC\":38,\"ABY\":37,\"FAM\":38,\"ALEXA 647\":38,\"JUN\":33}\n",
    "targets = getTargetCqValues(lodFile=lodFile)\n",
    "\n",
    "writer = pd.ExcelWriter(\"D:/Covid_data_New/Yr2023/Jan/Jan30/a.xlsx\")\n",
    "df_list = pd.DataFrame()\n",
    "text = open(\"D:/Covid_data_New/Yr2023/Jan/Jan27/AN/a.txt\",\"w\")\n",
    "\n",
    "for target in targets:\n",
    "    s = target.split(\"\\t\")\n",
    "    total = len(targets[target])\n",
    "    clear = 0\n",
    "    tpr = 0\n",
    "    cqMaen = 0\n",
    "    cqSd = 0\n",
    "    data=[]\n",
    "    \n",
    "    for v in targets[target]:\n",
    "        if v < 43:\n",
    "            data.append(v)\n",
    "        if v < targetThresholds[s[1]]:\n",
    "            clear +=1\n",
    "    tpr = calcuateTPR(clear=clear,total=total)\n",
    "    \n",
    "    if data:\n",
    "        cqMaen , cqSd = getStatistics(data)\n",
    "        \n",
    "    text.write(s[0]+\"\\t\"+s[1]+\"\\t\"+str(clear)+\"\\t\"+str(total)+\"\\t\"+str(tpr)+\"\\t\"+str(cqMaen)+\"\\t\"+str(cqSd)+\"\\n\")\n",
    "    listL=[s[1],clear,total,tpr,cqMaen,cqSd]\n",
    "    dfx = pd.DataFrame([listL],index=[s[0]],columns=['Target','Clean','Total','TPR','Mean','SD'])\n",
    "    df_list = pd.concat([df_list,dfx])\n",
    "\n",
    "df_list.to_excel(writer,sheet_name = \"Data1\")\n",
    "writer.close()\n",
    "text.close()\n"
   ]
  }
 ],
 "metadata": {
  "kernelspec": {
   "display_name": "Python 3",
   "language": "python",
   "name": "python3"
  },
  "language_info": {
   "codemirror_mode": {
    "name": "ipython",
    "version": 3
   },
   "file_extension": ".py",
   "mimetype": "text/x-python",
   "name": "python",
   "nbconvert_exporter": "python",
   "pygments_lexer": "ipython3",
   "version": "3.8.5"
  },
  "orig_nbformat": 4,
  "vscode": {
   "interpreter": {
    "hash": "2469a70536e4d2335a2ea8907942d0699c37342a371ac185bdb5b0aa6f073890"
   }
  }
 },
 "nbformat": 4,
 "nbformat_minor": 2
}
