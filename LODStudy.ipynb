{
 "cells": [
  {
   "cell_type": "markdown",
   "metadata": {},
   "source": []
  },
  {
   "cell_type": "code",
   "execution_count": 88,
   "metadata": {},
   "outputs": [],
   "source": [
    "from os import listdir\n",
    "from os.path import isfile, join\n",
    "import pandas as pd"
   ]
  },
  {
   "attachments": {},
   "cell_type": "markdown",
   "metadata": {},
   "source": [
    "Read Exported files using pandas"
   ]
  },
  {
   "cell_type": "code",
   "execution_count": 89,
   "metadata": {},
   "outputs": [],
   "source": [
    "import statistics\n",
    "\n",
    "def getStatistics(data):\n",
    "    meaN = \"%.3f\" % statistics.mean(data)\n",
    "    stDev = \"%.3f\" % statistics.stdev(data)\n",
    "    return meaN, stDev"
   ]
  },
  {
   "cell_type": "code",
   "execution_count": 90,
   "metadata": {},
   "outputs": [],
   "source": [
    "def calcuateTPR(clear,total):\n",
    "    tpr = clear/total * 100\n",
    "    if 0 < tpr < 100:\n",
    "        tpr = \"%.2f\" % tpr\n",
    "    return tpr"
   ]
  },
  {
   "cell_type": "code",
   "execution_count": 91,
   "metadata": {},
   "outputs": [],
   "source": [
    "def getTargetCqValues(lodFile):\n",
    "    targets = dict()\n",
    "    for i in lodFile.index:\n",
    "        cqValue = lodFile.loc[i,\"Cq\"]\n",
    "        sampleName = lodFile.loc[i,\"Sample\"]\n",
    "        reporterDye = lodFile.loc[i,'Reporter']\n",
    "        if pd.isna(sampleName):\n",
    "            continue\n",
    "        if sampleName == \"PC\" or sampleName == \"NC\":\n",
    "            continue\n",
    "        string = sampleName+\"\\t\"+reporterDye\n",
    "        targets.setdefault(string,[]).append(cqValue)\n",
    "    return targets\n"
   ]
  },
  {
   "cell_type": "code",
   "execution_count": 92,
   "metadata": {},
   "outputs": [],
   "source": [
    "def runMain(lodFile,mypath):\n",
    "    targetThresholds={\"VIC\":38,\"ABY\":37,\"FAM\":38,\"ALEXA 647\":38,\"JUN\":33}\n",
    "    targets = getTargetCqValues(lodFile=lodFile)\n",
    "\n",
    "    \n",
    "    df_list = pd.DataFrame()\n",
    "    text = open(mypath+\"/a.txt\",\"a\")\n",
    "\n",
    "    for target in targets:\n",
    "        s = target.split(\"\\t\")\n",
    "        total = len(targets[target])\n",
    "        clear = 0\n",
    "        tpr = 0\n",
    "        cqMaen = 0\n",
    "        cqSd = 0\n",
    "        data=[]\n",
    "        for v in targets[target]:\n",
    "            if v < 43:\n",
    "                data.append(v)\n",
    "            if v < targetThresholds[s[1]]:\n",
    "                clear +=1\n",
    "        tpr = calcuateTPR(clear=clear,total=total)\n",
    "        \n",
    "        if len(data) > 1:\n",
    "            cqMaen , cqSd = getStatistics(data)\n",
    "            \n",
    "        text.write(s[0]+\"\\t\"+s[1]+\"\\t\"+str(clear)+\"\\t\"+str(total)+\"\\t\"+str(tpr)+\"\\t\"+str(cqMaen)+\"\\t\"+str(cqSd)+\"\\n\")\n",
    "        listL=[s[1],clear,total,tpr,cqMaen,cqSd]\n",
    "        dfx = pd.DataFrame([listL],index=[s[0]],columns=['Target','Clean','Total','TPR','Mean','SD'])\n",
    "        df_list = pd.concat([df_list,dfx])\n",
    "\n",
    "    \n",
    "    text.close()\n",
    "    return df_list\n"
   ]
  },
  {
   "cell_type": "code",
   "execution_count": 93,
   "metadata": {},
   "outputs": [
    {
     "name": "stderr",
     "output_type": "stream",
     "text": [
      "d:\\Python\\lib\\site-packages\\openpyxl\\styles\\stylesheet.py:226: UserWarning: Workbook contains no default style, apply openpyxl's default\n",
      "  warn(\"Workbook contains no default style, apply openpyxl's default\")\n",
      "d:\\Python\\lib\\site-packages\\openpyxl\\styles\\stylesheet.py:226: UserWarning: Workbook contains no default style, apply openpyxl's default\n",
      "  warn(\"Workbook contains no default style, apply openpyxl's default\")\n",
      "d:\\Python\\lib\\site-packages\\openpyxl\\styles\\stylesheet.py:226: UserWarning: Workbook contains no default style, apply openpyxl's default\n",
      "  warn(\"Workbook contains no default style, apply openpyxl's default\")\n",
      "d:\\Python\\lib\\site-packages\\openpyxl\\styles\\stylesheet.py:226: UserWarning: Workbook contains no default style, apply openpyxl's default\n",
      "  warn(\"Workbook contains no default style, apply openpyxl's default\")\n",
      "d:\\Python\\lib\\site-packages\\openpyxl\\styles\\stylesheet.py:226: UserWarning: Workbook contains no default style, apply openpyxl's default\n",
      "  warn(\"Workbook contains no default style, apply openpyxl's default\")\n",
      "d:\\Python\\lib\\site-packages\\openpyxl\\styles\\stylesheet.py:226: UserWarning: Workbook contains no default style, apply openpyxl's default\n",
      "  warn(\"Workbook contains no default style, apply openpyxl's default\")\n",
      "d:\\Python\\lib\\site-packages\\openpyxl\\styles\\stylesheet.py:226: UserWarning: Workbook contains no default style, apply openpyxl's default\n",
      "  warn(\"Workbook contains no default style, apply openpyxl's default\")\n",
      "d:\\Python\\lib\\site-packages\\openpyxl\\styles\\stylesheet.py:226: UserWarning: Workbook contains no default style, apply openpyxl's default\n",
      "  warn(\"Workbook contains no default style, apply openpyxl's default\")\n",
      "d:\\Python\\lib\\site-packages\\openpyxl\\styles\\stylesheet.py:226: UserWarning: Workbook contains no default style, apply openpyxl's default\n",
      "  warn(\"Workbook contains no default style, apply openpyxl's default\")\n",
      "d:\\Python\\lib\\site-packages\\openpyxl\\styles\\stylesheet.py:226: UserWarning: Workbook contains no default style, apply openpyxl's default\n",
      "  warn(\"Workbook contains no default style, apply openpyxl's default\")\n",
      "d:\\Python\\lib\\site-packages\\openpyxl\\styles\\stylesheet.py:226: UserWarning: Workbook contains no default style, apply openpyxl's default\n",
      "  warn(\"Workbook contains no default style, apply openpyxl's default\")\n"
     ]
    },
    {
     "name": "stdout",
     "output_type": "stream",
     "text": [
      "Skipping a.xlsx\n",
      "Skipping aa.xlsx\n"
     ]
    }
   ],
   "source": [
    "from openpyxl import load_workbook\n",
    "\n",
    "mypath = \"D:/Covid_data_New/Yr2023/Jan/Jan31/\"\n",
    "writer = pd.ExcelWriter(mypath+\"/aa.xlsx\")\n",
    "onlyfiles = [f for f in listdir(mypath) if isfile(join(mypath, f))]\n",
    "for file in onlyfiles:\n",
    "    if \"xlsx\" in file:\n",
    "        pathOfFile = mypath+\"/\"+file\n",
    "        success = True\n",
    "        try:\n",
    "            wb = load_workbook(pathOfFile, read_only=True)   # open an Excel file and return a workbook\n",
    "        except:\n",
    "            success=False\n",
    "            print (\"Skipping \" + file)\n",
    "        if \"Primary_result\" in wb.sheetnames and success:\n",
    "            s = file.split(\"_\")\n",
    "            sheetName = s[4]+\"_\"+s[5]\n",
    "            lodFile = pd.read_excel(pathOfFile,sheet_name=\"Primary_result\",skiprows=26)\n",
    "            lodFile = lodFile.replace(to_replace=\"UNDETERMINED\",value=43)\n",
    "            df = runMain(lodFile=lodFile,mypath=mypath)\n",
    "            df.to_excel(writer,sheet_name = sheetName )\n",
    "writer.close()"
   ]
  }
 ],
 "metadata": {
  "kernelspec": {
   "display_name": "Python 3",
   "language": "python",
   "name": "python3"
  },
  "language_info": {
   "codemirror_mode": {
    "name": "ipython",
    "version": 3
   },
   "file_extension": ".py",
   "mimetype": "text/x-python",
   "name": "python",
   "nbconvert_exporter": "python",
   "pygments_lexer": "ipython3",
   "version": "3.8.5"
  },
  "orig_nbformat": 4,
  "vscode": {
   "interpreter": {
    "hash": "2469a70536e4d2335a2ea8907942d0699c37342a371ac185bdb5b0aa6f073890"
   }
  }
 },
 "nbformat": 4,
 "nbformat_minor": 2
}
