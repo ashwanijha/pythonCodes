{
 "cells": [
  {
   "cell_type": "code",
   "execution_count": 7,
   "id": "f301752d",
   "metadata": {},
   "outputs": [
    {
     "name": "stdout",
     "output_type": "stream",
     "text": [
      "Validated usee and password\n",
      "[1] Add student\n",
      "[2] Remove student\n",
      "[3] Get student Average\n",
      "[4] Exit\n",
      "60\n",
      "{'A': [50, 60, 70], 'B': [60, 70, 80], 'C': [70, 80, 90], 'G': 90}\n",
      "{'A': [50, 60, 70], 'B': [60, 70, 80], 'C': [70, 80, 90]}\n"
     ]
    }
   ],
   "source": [
    "def addStudent(studentDict):\n",
    "    nameOfStudent = input(\"Enter name of student to add: \")\n",
    "    gradeOfStudent = input(\"Enter grade of student: \")\n",
    "    studentDict[nameOfStudent] = int(gradeOfStudent)\n",
    "    print(studentDict)\n",
    "\n",
    "def removeStudent(studentDict):\n",
    "    nameOfStudent = input(\"Enter name of student to remove: \")\n",
    "    del studentDict[nameOfStudent]\n",
    "    print(studentDict)\n",
    "\n",
    "def studentAVG(studentDict):\n",
    "    nameOfStudent = input(\"Enter name of student to get average: \")\n",
    "    studentMean = mean(studentDict[nameOfStudent])\n",
    "    print(studentMean)\n",
    "\n",
    "from statistics import mean\n",
    "studentDict = {'A':[50,60,70],'B':[60,70,80],'C':[70,80,90]}\n",
    "\n",
    "adminUserName = input(\"Enter the User name: \")\n",
    "adminPassword = input(\"Enter password: \")\n",
    "\n",
    "import sys\n",
    "if adminUserName == \"Admin\" and adminPassword == \"Password\":\n",
    "    print(\"Authentic user and password\")\n",
    "else:\n",
    "    print (\"Going to expoled in 999..\")\n",
    "    sys.exit(0)    \n",
    "\n",
    "print(\"[1] Add student\")\n",
    "print(\"[2] Remove student\")\n",
    "print(\"[3] Get student Average\")\n",
    "print(\"[4] Exit\")\n",
    "\n",
    "selectOption = 1\n",
    "\n",
    "#addStudent(studentDict)\n",
    "while int(selectOption) < 4:\n",
    "    selectOption = input(\"Enter the option to run\")\n",
    "    if int(selectOption) == 1:\n",
    "        addStudent(studentDict)\n",
    "    elif int(selectOption) == 2:\n",
    "        removeStudent(studentDict)\n",
    "    elif int(selectOption) == 3:\n",
    "        studentAVG(studentDict)\n",
    "\n",
    "if int(selectOption == 4):\n",
    "    print(\"Exiting program\")\n",
    "\n"
   ]
  },
  {
   "cell_type": "code",
   "execution_count": 2,
   "id": "6cb43bca",
   "metadata": {},
   "outputs": [
    {
     "name": "stdout",
     "output_type": "stream",
     "text": [
      "{805, 806, 809, 845, 846, 847, 849, 850, 851}\n"
     ]
    }
   ],
   "source": [
    "def common_member(a, b):\n",
    "    a_set = set(a)\n",
    "    b_set = set(b)\n",
    " \n",
    "    if (a_set & b_set):\n",
    "        print(a_set & b_set)\n",
    "    else:\n",
    "        print(\"No common elements\")\n",
    "          \n",
    "  \n",
    "a = [808, 810, 845, 846, 847,849, 850, 805, 806, 809, 851]\n",
    "b = [805, 807, 809, 845, 846, 847, 849, 850, 806, 848, 851]\n",
    "common_member(a, b)\n",
    "  \n"
   ]
  }
 ],
 "metadata": {
  "kernelspec": {
   "display_name": "Python 3",
   "language": "python",
   "name": "python3"
  },
  "language_info": {
   "codemirror_mode": {
    "name": "ipython",
    "version": 3
   },
   "file_extension": ".py",
   "mimetype": "text/x-python",
   "name": "python",
   "nbconvert_exporter": "python",
   "pygments_lexer": "ipython3",
   "version": "3.8.5 (tags/v3.8.5:580fbb0, Jul 20 2020, 15:57:54) [MSC v.1924 64 bit (AMD64)]"
  },
  "vscode": {
   "interpreter": {
    "hash": "2469a70536e4d2335a2ea8907942d0699c37342a371ac185bdb5b0aa6f073890"
   }
  }
 },
 "nbformat": 4,
 "nbformat_minor": 5
}
