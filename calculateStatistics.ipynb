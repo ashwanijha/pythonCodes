{
 "cells": [
  {
   "cell_type": "code",
   "execution_count": 115,
   "metadata": {},
   "outputs": [
    {
     "name": "stderr",
     "output_type": "stream",
     "text": [
      "d:\\Python\\lib\\site-packages\\openpyxl\\styles\\stylesheet.py:226: UserWarning: Workbook contains no default style, apply openpyxl's default\n",
      "  warn(\"Workbook contains no default style, apply openpyxl's default\")\n"
     ]
    }
   ],
   "source": [
    "import pandas as pd\n",
    "from statistics import mean, stdev\n",
    "import re\n",
    "\n",
    "ofile = pd.ExcelWriter(\"D:/Covid_data_New/Yr2023/Feb/Feb7/aa.xlsx\")\n",
    "mypath = \"D:/Covid_data_New/Yr2023/Feb/Feb7/10OCT2022_StarFish_Fresh_Frozen_Cov_19_KA_QS5-0046_Analyzed_20230207 113218.xlsx\"\n",
    "diomniExport = pd.read_excel(mypath,sheet_name = \"Results\",skiprows= 23)\n",
    "diomniExport = diomniExport.replace(to_replace = \"Undetermined\", value = 41)\n",
    "\n",
    "data = dict()\n",
    "for i in diomniExport.index:\n",
    "    sample = diomniExport.loc[i,\"Sample\"]\n",
    "    if pd.isna(sample):\n",
    "        continue\n",
    "\n",
    "    #m = re.search(r'\\d+$', sample)\n",
    "    if re.search(r'\\d+$', sample):\n",
    "        sample = sample[:-1]\n",
    "    \n",
    "    reporter = diomniExport.loc[i,\"Reporter\"]\n",
    "    cq = diomniExport.loc[i,\"Cq\"]\n",
    "    merge = str(sample)+\"\\t\"+str(reporter)\n",
    "    if sample == \"PC\" or sample == \"NC\":\n",
    "        continue\n",
    "\n",
    "    if cq != 41:\n",
    "        data.setdefault(merge,[]).append(cq)\n",
    "    else:\n",
    "        data.setdefault(merge,[]).append(0)\n",
    "dataF = pd.DataFrame()\n",
    "for d in data:\n",
    "    s = d.split(\"\\t\")\n",
    "    listL = [\"%.3f\" % mean(data[d])]\n",
    "    dd = [s[0],s[1]]  \n",
    "    df = pd.DataFrame(listL,[s[1]],[s[0]])\n",
    "    dataF = pd.concat([df,dataF])\n",
    "#print(dataF)\n",
    "dataF.to_excel(ofile,sheet_name=\"Test Sheet\")\n",
    "ofile.close()\n",
    "\n"
   ]
  }
 ],
 "metadata": {
  "kernelspec": {
   "display_name": "Python 3",
   "language": "python",
   "name": "python3"
  },
  "language_info": {
   "codemirror_mode": {
    "name": "ipython",
    "version": 3
   },
   "file_extension": ".py",
   "mimetype": "text/x-python",
   "name": "python",
   "nbconvert_exporter": "python",
   "pygments_lexer": "ipython3",
   "version": "3.8.5"
  },
  "orig_nbformat": 4,
  "vscode": {
   "interpreter": {
    "hash": "2469a70536e4d2335a2ea8907942d0699c37342a371ac185bdb5b0aa6f073890"
   }
  }
 },
 "nbformat": 4,
 "nbformat_minor": 2
}
