{
 "cells": [
  {
   "cell_type": "code",
   "execution_count": 74,
   "metadata": {},
   "outputs": [
    {
     "name": "stderr",
     "output_type": "stream",
     "text": [
      "d:\\Python\\lib\\site-packages\\openpyxl\\styles\\stylesheet.py:226: UserWarning: Workbook contains no default style, apply openpyxl's default\n",
      "  warn(\"Workbook contains no default style, apply openpyxl's default\")\n"
     ]
    }
   ],
   "source": [
    "import pandas as pd\n",
    "from statistics import mean, stdev\n",
    "mypath = \"D:/Covid_data_New/Yr2023/Jan/Jan31/20230130_SFSH_LOD_day1_NP Plate1_QS5_0044_20230130_142341.xlsx\"\n",
    "diomniExport = pd.read_excel(mypath,sheet_name = \"Primary_result\",skiprows= 26)\n",
    "diomniExport = diomniExport.replace(to_replace = \"UNDETERMINED\", value = 43)\n",
    "\n",
    "data = dict()\n",
    "for i in diomniExport.index:\n",
    "    sample = diomniExport.loc[i,\"Sample\"]\n",
    "    if pd.isna(sample):\n",
    "        continue\n",
    "\n",
    "    reporter = diomniExport.loc[i,\"Reporter\"]\n",
    "    cq = diomniExport.loc[i,\"Cq\"]\n",
    "    merge = str(sample)+\"\\t\"+str(reporter)\n",
    "    if sample == \"PC\" or sample == \"NC\":\n",
    "        continue\n",
    "\n",
    "    if cq != 43:\n",
    "        data.setdefault(merge,[]).append(cq)\n",
    "    else:\n",
    "        data.setdefault(merge,[]).append(0)\n",
    "dataF = pd.DataFrame()\n",
    "for d in data:\n",
    "    s = d.split(\"\\t\")\n",
    "    #print(data)\n",
    "    listL = [s[1],\"%.3f\" % mean(data[d]),\"%.3f\" % stdev(data[d])]\n",
    "    dd = [s[0],s[1]]  \n",
    "    df = pd.DataFrame([listL],[s[0]],columns=[\"Dye\",\"Mean\",\"Stdev\"])\n",
    "    dataF = pd.concat([df,dataF])\n",
    "#print(dataF)\n",
    "\n"
   ]
  },
  {
   "cell_type": "code",
   "execution_count": 100,
   "metadata": {},
   "outputs": [
    {
     "ename": "TypeError",
     "evalue": "an integer is required (got type type)",
     "output_type": "error",
     "traceback": [
      "\u001b[1;31m---------------------------------------------------------------------------\u001b[0m",
      "\u001b[1;31mTypeError\u001b[0m                                 Traceback (most recent call last)",
      "\u001b[1;32md:\\pythonCodes\\calculateStatistics.ipynb Cell 2\u001b[0m in \u001b[0;36m<cell line: 56>\u001b[1;34m()\u001b[0m\n\u001b[0;32m     <a href='vscode-notebook-cell:/d%3A/pythonCodes/calculateStatistics.ipynb#W1sZmlsZQ%3D%3D?line=53'>54</a>\u001b[0m    \u001b[39m# dataFrame = pd.concat([datF,dataFrame])\u001b[39;00m\n\u001b[0;32m     <a href='vscode-notebook-cell:/d%3A/pythonCodes/calculateStatistics.ipynb#W1sZmlsZQ%3D%3D?line=54'>55</a>\u001b[0m uniqueSamples \u001b[39m=\u001b[39m np\u001b[39m.\u001b[39munique(allSampleName)\n\u001b[1;32m---> <a href='vscode-notebook-cell:/d%3A/pythonCodes/calculateStatistics.ipynb#W1sZmlsZQ%3D%3D?line=55'>56</a>\u001b[0m uniqueSamples\u001b[39m.\u001b[39;49msort(\u001b[39mreversed\u001b[39;49m)\n\u001b[0;32m     <a href='vscode-notebook-cell:/d%3A/pythonCodes/calculateStatistics.ipynb#W1sZmlsZQ%3D%3D?line=57'>58</a>\u001b[0m ofile \u001b[39m=\u001b[39m pd\u001b[39m.\u001b[39mExcelWriter(\u001b[39m\"\u001b[39m\u001b[39mD:/Covid_data_New/Yr2023/Jan/Jan31/aa.xlsx\u001b[39m\u001b[39m\"\u001b[39m)\n\u001b[0;32m     <a href='vscode-notebook-cell:/d%3A/pythonCodes/calculateStatistics.ipynb#W1sZmlsZQ%3D%3D?line=58'>59</a>\u001b[0m \u001b[39mfor\u001b[39;00m samples \u001b[39min\u001b[39;00m uniqueSamples:\n",
      "\u001b[1;31mTypeError\u001b[0m: an integer is required (got type type)"
     ]
    }
   ],
   "source": [
    "import numpy as np\n",
    "combData = pd.read_excel(\"D:\\\\Covid_data_New\\\\Yr2023\\\\Jan\\\\Jan31\\\\Combined_LineDataFormat_Diomni_QS5.xlsx\")\n",
    "combData = combData.replace(to_replace=\"UNDETERMINED\",value=43)\n",
    "\n",
    "\n",
    "dataFrame = pd.DataFrame()\n",
    "\n",
    "fluAdata = dict()\n",
    "fluBdata = dict()\n",
    "c19data = dict()\n",
    "rsvABdata = dict()\n",
    "rnasePdata = dict()\n",
    "allSampleName = []\n",
    "for i in combData.index:\n",
    "    sampleName = combData.loc[i,\"SampleName\"]\n",
    "    #cqValuesCol = combData.loc[i,['FLUA_CqValue','FLUB_CqValue','COV19_CqValue','RSVAB_CqValue'\n",
    "    #    ,'RNASEP_CqValue']]\n",
    "    allSampleName.append(sampleName)\n",
    "\n",
    "    fluACqValue = combData.loc[i,\"FLUA_CqValue\"]\n",
    "    fluBCqValue = combData.loc[i,\"FLUB_CqValue\"]\n",
    "    c19CqValue = combData.loc[i,\"COV19_CqValue\"]\n",
    "    rsvABCqValue = combData.loc[i,\"RSVAB_CqValue\"]\n",
    "    rnasePCqValue = combData.loc[i,\"RNASEP_CqValue\"]\n",
    "    \n",
    "    if fluACqValue == 43:\n",
    "        fluAdata.setdefault(sampleName,[]).append(0)\n",
    "    elif fluACqValue != 43:\n",
    "        fluAdata.setdefault(sampleName,[]).append(float(fluACqValue))\n",
    "\n",
    "    if fluBCqValue == 43:\n",
    "        fluBdata.setdefault(sampleName,[]).append(0)\n",
    "    elif fluBCqValue != 43:\n",
    "        fluBdata.setdefault(sampleName,[]).append(float(fluBCqValue))\n",
    "\n",
    "    if c19CqValue == 43:\n",
    "        c19data.setdefault(sampleName,[]).append(0)\n",
    "    elif c19CqValue != 43:\n",
    "        c19data.setdefault(sampleName,[]).append(float(c19CqValue))\n",
    "\n",
    "    if rsvABCqValue == 43:\n",
    "        rsvABdata.setdefault(sampleName,[]).append(0)\n",
    "    elif rsvABCqValue != 43:\n",
    "        rsvABdata.setdefault(sampleName,[]).append(float(rsvABCqValue))\n",
    "    \n",
    "    if rnasePCqValue == 43:\n",
    "        rnasePdata.setdefault(sampleName,[]).append(0)\n",
    "    elif rnasePCqValue != 43:\n",
    "        rnasePdata.setdefault(sampleName,[]).append(float(rnasePCqValue))\n",
    "    \n",
    "    \n",
    "    \n",
    "    \n",
    "   # dataFrame = pd.concat([datF,dataFrame])\n",
    "uniqueSamples = np.unique(allSampleName)\n",
    "uniqueSamples.sort()\n",
    "\n",
    "ofile = pd.ExcelWriter(\"D:/Covid_data_New/Yr2023/Jan/Jan31/aa.xlsx\")\n",
    "for samples in uniqueSamples:\n",
    "    statsListMean = [mean(fluAdata[samples]),mean(fluBdata[samples]),mean(c19data[samples]),\n",
    "                    mean(rsvABdata[samples]),mean(rnasePdata[samples])]\n",
    "    df = pd.DataFrame([statsListMean],[samples],columns=[\"FluA\",\"FluB\",\"C19\",\"RSVAB\",\"RNAseP\"])\n",
    "    dataFrame = pd.concat([df,dataFrame])\n",
    "\n",
    "dd = pd.DataFrame.transpose(dataFrame)\n",
    "dd.to_excel(ofile,sheet_name=\"Test Sheet\")\n",
    "ofile.close()\n",
    "\n"
   ]
  }
 ],
 "metadata": {
  "kernelspec": {
   "display_name": "Python 3",
   "language": "python",
   "name": "python3"
  },
  "language_info": {
   "codemirror_mode": {
    "name": "ipython",
    "version": 3
   },
   "file_extension": ".py",
   "mimetype": "text/x-python",
   "name": "python",
   "nbconvert_exporter": "python",
   "pygments_lexer": "ipython3",
   "version": "3.8.5"
  },
  "orig_nbformat": 4,
  "vscode": {
   "interpreter": {
    "hash": "2469a70536e4d2335a2ea8907942d0699c37342a371ac185bdb5b0aa6f073890"
   }
  }
 },
 "nbformat": 4,
 "nbformat_minor": 2
}
