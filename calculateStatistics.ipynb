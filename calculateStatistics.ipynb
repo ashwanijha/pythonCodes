{
 "cells": [
  {
   "cell_type": "code",
   "execution_count": 47,
   "metadata": {},
   "outputs": [
    {
     "name": "stderr",
     "output_type": "stream",
     "text": [
      "d:\\Python\\lib\\site-packages\\openpyxl\\styles\\stylesheet.py:226: UserWarning: Workbook contains no default style, apply openpyxl's default\n",
      "  warn(\"Workbook contains no default style, apply openpyxl's default\")\n"
     ]
    },
    {
     "name": "stdout",
     "output_type": "stream",
     "text": [
      "                           Dye    Mean   Stdev\n",
      "NEG                        JUN  25.498   0.118\n",
      "NEG                  ALEXA 647   0.000   0.000\n",
      "NEG                        VIC   0.000   0.000\n",
      "NEG                        ABY   0.000   0.000\n",
      "NEG                        FAM   0.000   0.000\n",
      "0.33x FluA H1N1 (2)        JUN  25.582   0.111\n",
      "0.33x FluA H1N1 (2)  ALEXA 647   0.000   0.000\n",
      "0.33x FluA H1N1 (2)        VIC   0.000   0.000\n",
      "0.33x FluA H1N1 (2)        ABY   0.000   0.000\n",
      "0.33x FluA H1N1 (2)        FAM  21.330  20.243\n",
      "1x FluA H1N1 (2)           JUN  25.529   0.124\n",
      "1x FluA H1N1 (2)     ALEXA 647   0.000   0.000\n",
      "1x FluA H1N1 (2)           VIC   0.000   0.000\n",
      "1x FluA H1N1 (2)           ABY   0.000   0.000\n",
      "1x FluA H1N1 (2)           FAM  36.631   1.187\n",
      "3x FluA H1N1 (2)           JUN  25.471   0.246\n",
      "3x FluA H1N1 (2)     ALEXA 647   0.000   0.000\n",
      "3x FluA H1N1 (2)           VIC   0.000   0.000\n",
      "3x FluA H1N1 (2)           ABY   0.000   0.000\n",
      "3x FluA H1N1 (2)           FAM  34.187   1.496\n",
      "0.33x FluA H1N1 (1)        JUN  25.543   0.067\n",
      "0.33x FluA H1N1 (1)  ALEXA 647   0.000   0.000\n",
      "0.33x FluA H1N1 (1)        VIC   0.000   0.000\n",
      "0.33x FluA H1N1 (1)        ABY   0.000   0.000\n",
      "0.33x FluA H1N1 (1)        FAM  17.199  20.402\n",
      "1x FluA H1N1 (1)           JUN  25.432   0.334\n",
      "1x FluA H1N1 (1)     ALEXA 647   0.000   0.000\n",
      "1x FluA H1N1 (1)           VIC   0.000   0.000\n",
      "1x FluA H1N1 (1)           ABY   0.000   0.000\n",
      "1x FluA H1N1 (1)           FAM  32.718  12.467\n",
      "3x FluA H1N1 (1)           JUN  25.586   0.139\n",
      "3x FluA H1N1 (1)     ALEXA 647   0.000   0.000\n",
      "3x FluA H1N1 (1)           VIC   0.000   0.000\n",
      "3x FluA H1N1 (1)           ABY   0.000   0.000\n",
      "3x FluA H1N1 (1)           FAM  33.777   0.849\n",
      "1x SARS-CoV-2              JUN  25.668   0.154\n",
      "1x SARS-CoV-2        ALEXA 647   0.000   0.000\n",
      "1x SARS-CoV-2              VIC  35.185   0.687\n",
      "1x SARS-CoV-2              ABY   0.000   0.000\n",
      "1x SARS-CoV-2              FAM   0.000   0.000\n",
      "0.33x SARS-CoV-2           JUN  25.491   0.104\n",
      "0.33x SARS-CoV-2     ALEXA 647   0.000   0.000\n",
      "0.33x SARS-CoV-2           VIC  37.212   1.399\n",
      "0.33x SARS-CoV-2           ABY   0.000   0.000\n",
      "0.33x SARS-CoV-2           FAM   0.000   0.000\n",
      "3x SARS-CoV-2              JUN  25.621   0.107\n",
      "3x SARS-CoV-2        ALEXA 647   0.000   0.000\n",
      "3x SARS-CoV-2              VIC  33.831   0.250\n",
      "3x SARS-CoV-2              ABY   0.000   0.000\n",
      "3x SARS-CoV-2              FAM   0.000   0.000\n"
     ]
    }
   ],
   "source": [
    "import pandas as pd\n",
    "from statistics import mean, stdev\n",
    "mypath = \"D:/Covid_data_New/Yr2023/Jan/Jan31/20230130_SFSH_LOD_day1_NP Plate1_QS5_0044_20230130_142341.xlsx\"\n",
    "diomniExport = pd.read_excel(mypath,sheet_name = \"Primary_result\",skiprows= 26)\n",
    "diomniExport = diomniExport.replace(to_replace = \"UNDETERMINED\", value = 43)\n",
    "\n",
    "data = dict()\n",
    "for i in diomniExport.index:\n",
    "    sample = diomniExport.loc[i,\"Sample\"]\n",
    "    if pd.isna(sample):\n",
    "        continue\n",
    "\n",
    "    reporter = diomniExport.loc[i,\"Reporter\"]\n",
    "    cq = diomniExport.loc[i,\"Cq\"]\n",
    "    merge = str(sample)+\"\\t\"+str(reporter)\n",
    "    if sample == \"PC\" or sample == \"NC\":\n",
    "        continue\n",
    "\n",
    "    if cq != 43:\n",
    "        data.setdefault(merge,[]).append(cq)\n",
    "    else:\n",
    "        data.setdefault(merge,[]).append(0)\n",
    "dataF = pd.DataFrame()\n",
    "for d in data:\n",
    "    s = d.split(\"\\t\")\n",
    "    #\"%.3f\" % statistics.mean(data)\n",
    "    listL = [s[1],\"%.3f\" % mean(data[d]),\"%.3f\" % stdev(data[d])]\n",
    "    dd = [s[0],s[1]]  \n",
    "    df = pd.DataFrame([listL],[s[0]],columns=[\"Dye\",\"Mean\",\"Stdev\"])\n",
    "    dataF = pd.concat([df,dataF])\n",
    "print(dataF)\n",
    "\n"
   ]
  }
 ],
 "metadata": {
  "kernelspec": {
   "display_name": "Python 3",
   "language": "python",
   "name": "python3"
  },
  "language_info": {
   "codemirror_mode": {
    "name": "ipython",
    "version": 3
   },
   "file_extension": ".py",
   "mimetype": "text/x-python",
   "name": "python",
   "nbconvert_exporter": "python",
   "pygments_lexer": "ipython3",
   "version": "3.8.5"
  },
  "orig_nbformat": 4,
  "vscode": {
   "interpreter": {
    "hash": "2469a70536e4d2335a2ea8907942d0699c37342a371ac185bdb5b0aa6f073890"
   }
  }
 },
 "nbformat": 4,
 "nbformat_minor": 2
}
