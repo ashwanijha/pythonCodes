{
 "cells": [
  {
   "cell_type": "code",
   "execution_count": 22,
   "metadata": {},
   "outputs": [
    {
     "name": "stdout",
     "output_type": "stream",
     "text": [
      "S1\t25.15\t0.286\t1.14\n",
      "S9\t32.29\t0.502\t1.55\n",
      "S2\t35.46\t0.554\t1.56\n",
      "S3\t34.14\t0.334\t0.98\n",
      "S4\t33.06\t0.326\t0.99\n",
      "S5\t32.58\t0.216\t0.66\n",
      "S6\t34.06\t0.269\t0.79\n",
      "S7\t32.42\t0.167\t0.52\n",
      "S8\t34.30\t0.399\t1.16\n"
     ]
    }
   ],
   "source": [
    "import pandas as pd\n",
    "from statistics import mean, stdev\n",
    "\n",
    "inFolder = \"D:/Covid_data_New/Yr2023/March/9March/\"\n",
    "comb = pd.read_excel(inFolder+\"/WLP_D1_to_D3_Combined_LineDataFormat_Diomni.xlsx\")\n",
    "sampleData = dict()\n",
    "for i in comb.index:\n",
    "    sampleName = comb.loc[i,'SampleName']\n",
    "    if sampleName == \"PC_PC\" or sampleName == \"NC_NC\":\n",
    "        continue\n",
    "    s = sampleName.split(\"_\")\n",
    "    fluA =  comb.loc[i,'FLUA_CqValue'] \t\n",
    "    flub =  comb.loc[i,'FLUB_CqValue'] \n",
    "    c19 =  comb.loc[i,'COV19_CqValue'] \n",
    "    rsvAB = comb.loc[i,'RSVAB_CqValue']\n",
    "    rnasP = comb.loc[i,'RNASEP_CqValue']\n",
    "    if s[0] == \"S1\":\n",
    "        sampleData.setdefault(s[0],[]).append(float(rnasP))\n",
    "    if s[0] == \"S2\" or s[0] == \"S3\":\n",
    "        sampleData.setdefault(s[0],[]).append(float(c19))\n",
    "    if s[0] == \"S4\" or s[0] == \"S5\":\n",
    "        sampleData.setdefault(s[0],[]).append(float(fluA))\n",
    "    if s[0] == \"S6\" or s[0] == \"S7\":\n",
    "        sampleData.setdefault(s[0],[]).append(float(flub))\n",
    "    if s[0] == \"S8\" or s[0] == \"S9\":\n",
    "        sampleData.setdefault(s[0],[]).append(float(rsvAB))\n",
    "writeStats = open(inFolder+\"/data.txt\",\"w\")\n",
    "for key in sampleData:\n",
    "    cov = stdev(sampleData.get(key)) / mean(sampleData.get(key)) *100\n",
    "    print(key+\"\\t\"+str(\"%.2f\" % mean(sampleData.get(key)))+\"\\t\"+str(\"%.3f\" % stdev(sampleData.get(key)))\n",
    "          +\"\\t\"+str(\"%.2f\" % cov))\n",
    "    writeStats.write(key+\"\\t\"+str(\"%.2f\" % mean(sampleData.get(key)))+\"\\t\"+str(\"%.3f\" % stdev(sampleData.get(key)))\n",
    "          +\"\\t\"+str(\"%.2f\" % cov)+\"\\n\")\n",
    "\n",
    "writeStats.close()\n",
    "    #dataList = [key] \n",
    "    #df = pd.DataFrame()\n",
    "    #print(key)\n",
    "    #m = mean(sampleData.get(key))\n",
    "    #print(m)\n",
    "    #print(stdev(sampleData.get(key)))\n",
    "    "
   ]
  }
 ],
 "metadata": {
  "kernelspec": {
   "display_name": "Python 3",
   "language": "python",
   "name": "python3"
  },
  "language_info": {
   "codemirror_mode": {
    "name": "ipython",
    "version": 3
   },
   "file_extension": ".py",
   "mimetype": "text/x-python",
   "name": "python",
   "nbconvert_exporter": "python",
   "pygments_lexer": "ipython3",
   "version": "3.8.5"
  },
  "orig_nbformat": 4
 },
 "nbformat": 4,
 "nbformat_minor": 2
}
