{
 "cells": [
  {
   "cell_type": "code",
   "execution_count": 10,
   "metadata": {},
   "outputs": [],
   "source": [
    "import pandas as pd\n",
    "from statistics import mean, stdev\n",
    "import re\n",
    "\n",
    "#ofile = pd.ExcelWriter(\"D:/Covid_data_New/Yr2023/Feb/Feb7/aa.xlsx\")\n",
    "mypath = \"D:/Covid_data_New/Yr2023/4April/11April/Combined_Data/\"\n",
    "comb = pd.read_excel(mypath+\"/Combined_LineDataFormat_Diomni.xlsx\")\n",
    "comb = comb.replace(to_replace=\"UNDETERMINED\",value=41)\n"
   ]
  },
  {
   "cell_type": "code",
   "execution_count": 24,
   "metadata": {},
   "outputs": [
    {
     "name": "stdout",
     "output_type": "stream",
     "text": [
      "28\n",
      "NEG_AN_0X_Frsh\tABY\t[41.0, 41.0, 41.0, 41.0, 41.0, 41.0, 41.0, 41.0, 41.0, 41.0]\t41.0\n",
      "NEG_AN_0X_Frsh\tALEXA 647\t[41.0, 41.0, 41.0, 41.0, 41.0, 41.0, 41.0, 41.0, 41.0, 41.0]\t41.0\n",
      "NEG_AN_0X_Frsh\tFAM\t[41.0, 41.0, 41.0, 41.0, 41.0, 41.0, 41.0, 41.0, 41.0, 41.0]\t41.0\n",
      "NEG_AN_0X_Frsh\tJUN\t[26.887508117709142, 27.356182304838626, 27.287009591480505, 26.632621578810664, 26.716085456373445, 25.644311190122, 25.637252215591474, 25.44658233284789, 25.40300964569121, 25.571416833685632]\t26.25819792671506\n",
      "NEG_AN_0X_Frsh\tVIC\t[41.0, 41.0, 41.0, 41.0, 41.0, 41.0, 41.0, 41.0, 41.0, 41.0]\t41.0\n"
     ]
    }
   ],
   "source": [
    "columns = comb.columns\n",
    "print(columns.get_loc(\"FLUA_CqValue\"))\n",
    "allData = dict()\n",
    "for i in comb.index:\n",
    "    sampleName = comb.loc[i,'SampleName']\n",
    "    if sampleName == \"PC_PC\" or sampleName == \"NC_NC\":\n",
    "        continue\n",
    "    s = sampleName.split(\"_\")\n",
    "    fluA =  comb.loc[i,'FLUA_CqValue'] \t\n",
    "    flub =  comb.loc[i,'FLUB_CqValue'] \n",
    "    c19 =  comb.loc[i,'COV19_CqValue'] \n",
    "    rsvAB = comb.loc[i,'RSVAB_CqValue']\n",
    "    rnasP = comb.loc[i,'RNASEP_CqValue']\n",
    "    sname = comb.loc[i,'SampleName'].split(\"_Rep\")\n",
    "    \n",
    "    allData.setdefault(sname[0]+\"\\tABY\",[]).append(float(flub))\n",
    "    allData.setdefault(sname[0]+\"\\tALEXA 647\",[]).append(float(rsvAB))\n",
    "    allData.setdefault(sname[0]+\"\\tFAM\",[]).append(float(fluA))\n",
    "    allData.setdefault(sname[0]+\"\\tJUN\",[]).append(float(rnasP))\n",
    "    allData.setdefault(sname[0]+\"\\tVIC\",[]).append(float(c19))\n",
    " \n",
    "datas = dict()\n",
    "datam = dict()\n",
    "k = 0\n",
    "for key in allData:\n",
    "    k +=1\n",
    "    sam = key.split(\"\\t\")\n",
    "    s = 0\n",
    "    \n",
    "    m = mean(allData.get(key))\n",
    "    if(len(allData.get(key)) > 1):\n",
    "       s = stdev(allData.get(key))\n",
    "\n",
    "    if m !=41:\n",
    "        datam.setdefault(sam[0],[]).append(\"%.2f\" % m)\n",
    "    else:\n",
    "        datam.setdefault(sam[0],[]).append(\"\")\n",
    "\n",
    "    if( s != 0):\n",
    "        datas.setdefault(sam[0],[]).append(\"%.3f\" % s)\n",
    "    else:\n",
    "        datas.setdefault(sam[0],[]).append(\"\")\n",
    "\n",
    "    #print(key+\"\\t\"+str(len(allData.get(key))))\n",
    "    if(sam[0] == \"NEG_NP_0X_Frsh\"):\n",
    "        print(key+\"\\t\"+str(allData.get(key))+\"\\t\"+str(m))\n",
    "    \n",
    "\n",
    "df_list  = pd.DataFrame()\n",
    "for key in datas:\n",
    "    #print(key)\n",
    "   #print(key+\"\\t\"+str(datam.get(key))+\"\\t\"+str(datas.get(key)))\n",
    "   list1 = [\"\"]\n",
    "   longlist = datam.get(key) + list1 +datas.get(key)\n",
    "   colList = ['ABY\\u03BCCq','Alexa 647\\u03BCCq','FAM\\u03BCCq','VIC\\u03BCCq','JUN\\u03BCCq','','ABY \\u03C3','Alexa 647 \\u03C3','FAM \\u03C3','VIC \\u03C3','JUN \\u03C3']\n",
    "   dfx = pd.DataFrame([longlist],index=[key],columns=colList)\n",
    "   #dfs = pd.DataFrame([datas.get(key)],index=[key])\n",
    "   df_list = pd.concat([df_list,dfx])\n",
    "\n",
    "export = pd.ExcelWriter(mypath+\"/res1.xlsx\")\n",
    "df_list.T.to_excel(export)\n",
    "export.close()\n",
    "#print(df_list.T)\n",
    "    \n",
    "\n"
   ]
  }
 ],
 "metadata": {
  "kernelspec": {
   "display_name": "Python 3",
   "language": "python",
   "name": "python3"
  },
  "language_info": {
   "codemirror_mode": {
    "name": "ipython",
    "version": 3
   },
   "file_extension": ".py",
   "mimetype": "text/x-python",
   "name": "python",
   "nbconvert_exporter": "python",
   "pygments_lexer": "ipython3",
   "version": "3.8.5"
  },
  "orig_nbformat": 4
 },
 "nbformat": 4,
 "nbformat_minor": 2
}
