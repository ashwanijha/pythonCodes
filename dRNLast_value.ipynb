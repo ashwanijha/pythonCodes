{
 "cells": [
  {
   "cell_type": "code",
   "execution_count": 11,
   "metadata": {},
   "outputs": [
    {
     "name": "stderr",
     "output_type": "stream",
     "text": [
      "d:\\Python\\lib\\site-packages\\openpyxl\\styles\\stylesheet.py:226: UserWarning: Workbook contains no default style, apply openpyxl's default\n",
      "  warn(\"Workbook contains no default style, apply openpyxl's default\")\n",
      "d:\\Python\\lib\\site-packages\\openpyxl\\styles\\stylesheet.py:226: UserWarning: Workbook contains no default style, apply openpyxl's default\n",
      "  warn(\"Workbook contains no default style, apply openpyxl's default\")\n",
      "d:\\Python\\lib\\site-packages\\openpyxl\\styles\\stylesheet.py:226: UserWarning: Workbook contains no default style, apply openpyxl's default\n",
      "  warn(\"Workbook contains no default style, apply openpyxl's default\")\n"
     ]
    }
   ],
   "source": [
    "import os\n",
    "import pandas as pd\n",
    "directory = \"D:/Covid_data_New/Yr2023/6Jun/26Jun\"\n",
    "files = os.listdir(directory)\n",
    "fileList = []\n",
    "oFile = open(directory+\"/res.txt\",\"w\")\n",
    "for file in files:\n",
    "    if \"xlsx\" in file:\n",
    "        data = dict()\n",
    "        fileList.append(file)\n",
    "        excel = pd.read_excel(directory+\"/\"+file,sheet_name=\"Amplification_Data\",skiprows=26)\n",
    "        print(file)\n",
    "        for i in excel.index:\n",
    "            if excel.loc[i,\"Cycle Number\"] == 43:\n",
    "                #print(excel.loc[i,\"dRn\"],excel.loc[i,\"Target\"],excel.loc[i,\"Well\"])\n",
    "                #name = file +\"\\t\" + \n",
    "                data.setdefault(excel.loc[i,\"Well\"],[]).append(excel.loc[i,\"dRn\"])\n",
    "        for key in data:\n",
    "            oFile.write(key+\"\\t\"+str(data.get(key))+\"\\n\")\n",
    "\n",
    "oFile.close()\n",
    "\n",
    "\n"
   ]
  }
 ],
 "metadata": {
  "kernelspec": {
   "display_name": "Python 3",
   "language": "python",
   "name": "python3"
  },
  "language_info": {
   "codemirror_mode": {
    "name": "ipython",
    "version": 3
   },
   "file_extension": ".py",
   "mimetype": "text/x-python",
   "name": "python",
   "nbconvert_exporter": "python",
   "pygments_lexer": "ipython3",
   "version": "3.8.5"
  },
  "orig_nbformat": 4
 },
 "nbformat": 4,
 "nbformat_minor": 2
}
