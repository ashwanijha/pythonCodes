{
 "cells": [
  {
   "cell_type": "code",
   "execution_count": 12,
   "metadata": {},
   "outputs": [
    {
     "name": "stdout",
     "output_type": "stream",
     "text": [
      "nggnpx"
     ]
    }
   ],
   "source": [
    "import string\n",
    "\n",
    "stringArray = {}\n",
    "arrayString = {}\n",
    "def display_characters():\n",
    "    i = 0\n",
    "    for char in string.ascii_lowercase:\n",
    "        stringArray[char] = i\n",
    "        arrayString[i] = char\n",
    "        i+=1\n",
    "display_characters()\n",
    "\n",
    "str = \"attack\"\n",
    "intStr = []\n",
    "for s in str:\n",
    "    j = stringArray.get(s) + 13\n",
    "    k = j\n",
    "    if j >25:\n",
    "        k = j - 26\n",
    "    print(arrayString.get(k),end=\"\")\n"
   ]
  }
 ],
 "metadata": {
  "kernelspec": {
   "display_name": "Python 3",
   "language": "python",
   "name": "python3"
  },
  "language_info": {
   "codemirror_mode": {
    "name": "ipython",
    "version": 3
   },
   "file_extension": ".py",
   "mimetype": "text/x-python",
   "name": "python",
   "nbconvert_exporter": "python",
   "pygments_lexer": "ipython3",
   "version": "3.8.5"
  },
  "orig_nbformat": 4
 },
 "nbformat": 4,
 "nbformat_minor": 2
}
