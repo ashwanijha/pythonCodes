{
 "cells": [
  {
   "cell_type": "code",
   "execution_count": 100,
   "metadata": {},
   "outputs": [
    {
     "name": "stderr",
     "output_type": "stream",
     "text": [
      "d:\\Python\\lib\\site-packages\\openpyxl\\styles\\stylesheet.py:226: UserWarning: Workbook contains no default style, apply openpyxl's default\n",
      "  warn(\"Workbook contains no default style, apply openpyxl's default\")\n"
     ]
    }
   ],
   "source": [
    "import pandas as pd\n",
    "exportedFile = pd.read_excel(\"D:/Covid_data_New/Yr2023/Feb/Feb16/2023FEB13_Starfish_NP_SO-1-46587_Phase1_Extraction1_T1-15_Run1_QS7pro Dx_0006_20230214_201401.xlsx\", header=None)\n",
    "export1 = exportedFile[26:]\n",
    "metaDf = exportedFile[:26]\n",
    "colNames = metaDf[metaDf.columns[1]].tolist()\n",
    "export = pd.DataFrame(export1.values[1:], columns=export1.iloc[0]) \n"
   ]
  },
  {
   "cell_type": "code",
   "execution_count": 101,
   "metadata": {},
   "outputs": [],
   "source": [
    "targetThresholds={\"VIC\":38,\"ABY\":37,\"FAM\":38,\"ALEXA 647\":38,\"JUN\":33}\n",
    "targetCalls = dict()\n",
    "data = dict()\n",
    "\n",
    "for i in export.index:\n",
    "    wellPosition = export.loc[i,\"Well\"]\n",
    "    sampleName = export.loc[i,\"Sample\"]\n",
    "    targets = export.loc[i,\"Target\"]\n",
    "    cqValue = export.loc[i,\"Cq\"]\n",
    "    reporter = export.loc[i,\"Reporter\"]\n",
    "    cols = wellPosition+\"\\t\"+sampleName\n",
    "    cqValues = targets+\"\\t\"+str(cqValue)\n",
    "    data.setdefault(cols,[]).append(cqValues)\n",
    "    if cqValue == \"UNDETERMINED\":\n",
    "        cqValue = 43\n",
    "    if targetThresholds[reporter] >= float(cqValue):\n",
    "        targetCalls.setdefault(cols,[]).append(\"Positive\")\n",
    "    else:\n",
    "        targetCalls.setdefault(cols,[]).append(\"Negative\")\n",
    "\n",
    "df = pd.DataFrame()\n",
    "for i in data:\n",
    "    dd = []\n",
    "    s1 = i.split(\"\\t\")\n",
    "    dd.append(s1[1])\n",
    "    for j in data[i]:\n",
    "        s = j.split(\"\\t\")\n",
    "        dd.append(s[1])\n",
    "    for calls in targetCalls[i]:\n",
    "        dd.append(calls)\n",
    "    df1 = pd.DataFrame([dd],[s1[0]],columns=[\"Sample Name\",\"FluA\",\"FluB\",\"Cov\",\"RSVAB\",\"RNASEP\",\"FluA\",\"FluB\",\"Cov\",\"RSVAB\",\"RNASEP\"])\n",
    "    #print(df1)\n",
    "    df = pd.concat([df1,df])\n",
    "\n",
    "df = df[::-1]\n",
    "writer = pd.ExcelWriter(\"D:/Covid_data_New/Yr2023/Feb/Feb16/a.xlsx\")\n",
    "df.to_excel(writer,sheet_name=\"Test\",engine='xlsxwriter')\n",
    "writer.close()\n",
    "\n",
    "    "
   ]
  }
 ],
 "metadata": {
  "kernelspec": {
   "display_name": "Python 3",
   "language": "python",
   "name": "python3"
  },
  "language_info": {
   "codemirror_mode": {
    "name": "ipython",
    "version": 3
   },
   "file_extension": ".py",
   "mimetype": "text/x-python",
   "name": "python",
   "nbconvert_exporter": "python",
   "pygments_lexer": "ipython3",
   "version": "3.8.5"
  },
  "orig_nbformat": 4,
  "vscode": {
   "interpreter": {
    "hash": "2469a70536e4d2335a2ea8907942d0699c37342a371ac185bdb5b0aa6f073890"
   }
  }
 },
 "nbformat": 4,
 "nbformat_minor": 2
}
