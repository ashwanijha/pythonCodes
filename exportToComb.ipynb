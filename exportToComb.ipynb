{
 "cells": [
  {
   "cell_type": "code",
   "execution_count": 106,
   "metadata": {},
   "outputs": [],
   "source": [
    "import pandas as pd\n",
    "from os import listdir\n",
    "import openpyxl as xl"
   ]
  },
  {
   "cell_type": "code",
   "execution_count": 107,
   "metadata": {},
   "outputs": [],
   "source": [
    "\n",
    "def readExcelFiles(exportedFile):\n",
    "    export1 = exportedFile[26:]\n",
    "    metaDf = exportedFile[:26]\n",
    "    export = pd.DataFrame(export1.values[1:], columns=export1.iloc[0]) \n",
    "    return metaDf, export"
   ]
  },
  {
   "cell_type": "code",
   "execution_count": 108,
   "metadata": {},
   "outputs": [],
   "source": [
    "def getmetaDataInfo(metaDf):\n",
    "    metaData = metaDf[1]\n",
    "    headMeta = metaDf[0]\n",
    "    listAddHeader = []\n",
    "    runName = str(metaData[0]).split(\"\\\\\")\n",
    "    listAddElemane=[]\n",
    "    listAddElemane.append(runName[-1])\n",
    "    listAddHeader.append(headMeta[0])\n",
    "    #print(runName[-1])\n",
    "    for i in range(1,len(metaDf[1])-1):\n",
    "        listAddHeader.append(headMeta[i])\n",
    "        if pd.isnull(metaData[i]):\n",
    "            listAddElemane.append(\"\")\n",
    "        else:\n",
    "            listAddElemane.append(metaData[i])\n",
    "    return listAddElemane, listAddHeader\n"
   ]
  },
  {
   "cell_type": "code",
   "execution_count": 109,
   "metadata": {},
   "outputs": [],
   "source": [
    "def implementLogic(export,listAddElemane,listAddHeader):\n",
    "    targetThresholds={\"VIC\":38,\"ABY\":37,\"FAM\":38,\"ALEXA 647\":38,\"JUN\":33}\n",
    "    targetCalls = dict()\n",
    "    data = dict()\n",
    "    for i in export.index:\n",
    "        wellPosition = export.loc[i,\"Well\"]\n",
    "        sampleName = export.loc[i,\"Sample\"]\n",
    "        targets = export.loc[i,\"Target\"]\n",
    "        cqValue = export.loc[i,\"Cq\"]\n",
    "        reporter = export.loc[i,\"Reporter\"]\n",
    "        cols = wellPosition+\"\\t\"+sampleName\n",
    "        cqValues = targets+\"\\t\"+str(cqValue)\n",
    "        data.setdefault(cols,[]).append(cqValues)\n",
    "        if cqValue == \"UNDETERMINED\":\n",
    "            cqValue = 43\n",
    "        if targetThresholds[reporter] >= float(cqValue):\n",
    "            targetCalls.setdefault(cols,[]).append(\"Positive\")\n",
    "        else:\n",
    "            targetCalls.setdefault(cols,[]).append(\"Negative\")\n",
    "\n",
    "    df = pd.DataFrame()\n",
    "    for i in data:\n",
    "        dd = []\n",
    "        s1 = i.split(\"\\t\")\n",
    "        dd.append(s1[0])\n",
    "        dd.append(s1[1])\n",
    "        for j in data[i]:\n",
    "            s = j.split(\"\\t\")\n",
    "            dd.append(s[1])\n",
    "        for calls in targetCalls[i]:\n",
    "            dd.append(calls)\n",
    "        matchlit = listAddElemane+dd\n",
    "        targetList = [\"Well Position\",\"Sample Name\",\"FluA\",\"FluB\",\"Cov\",\"RSVAB\",\"RNASEP\",\"FluA\",\"FluB\",\"Cov\",\"RSVAB\",\"RNASEP\"]\n",
    "        headers = listAddHeader + targetList\n",
    "        df1 = pd.DataFrame([matchlit],[s1[0]],columns=headers)\n",
    "        #print(df1)\n",
    "        df = pd.concat([df1,df])\n",
    "\n",
    "    df = df[::-1]\n",
    "    #print(df)\n",
    "    return df\n",
    "\n",
    "\n",
    "    "
   ]
  },
  {
   "cell_type": "code",
   "execution_count": 110,
   "metadata": {},
   "outputs": [
    {
     "name": "stderr",
     "output_type": "stream",
     "text": [
      "d:\\Python\\lib\\site-packages\\openpyxl\\styles\\stylesheet.py:226: UserWarning: Workbook contains no default style, apply openpyxl's default\n",
      "  warn(\"Workbook contains no default style, apply openpyxl's default\")\n",
      "d:\\Python\\lib\\site-packages\\openpyxl\\styles\\stylesheet.py:226: UserWarning: Workbook contains no default style, apply openpyxl's default\n",
      "  warn(\"Workbook contains no default style, apply openpyxl's default\")\n",
      "d:\\Python\\lib\\site-packages\\openpyxl\\styles\\stylesheet.py:226: UserWarning: Workbook contains no default style, apply openpyxl's default\n",
      "  warn(\"Workbook contains no default style, apply openpyxl's default\")\n",
      "d:\\Python\\lib\\site-packages\\openpyxl\\styles\\stylesheet.py:226: UserWarning: Workbook contains no default style, apply openpyxl's default\n",
      "  warn(\"Workbook contains no default style, apply openpyxl's default\")\n",
      "d:\\Python\\lib\\site-packages\\openpyxl\\styles\\stylesheet.py:226: UserWarning: Workbook contains no default style, apply openpyxl's default\n",
      "  warn(\"Workbook contains no default style, apply openpyxl's default\")\n",
      "d:\\Python\\lib\\site-packages\\openpyxl\\styles\\stylesheet.py:226: UserWarning: Workbook contains no default style, apply openpyxl's default\n",
      "  warn(\"Workbook contains no default style, apply openpyxl's default\")\n",
      "d:\\Python\\lib\\site-packages\\openpyxl\\styles\\stylesheet.py:226: UserWarning: Workbook contains no default style, apply openpyxl's default\n",
      "  warn(\"Workbook contains no default style, apply openpyxl's default\")\n",
      "d:\\Python\\lib\\site-packages\\openpyxl\\styles\\stylesheet.py:226: UserWarning: Workbook contains no default style, apply openpyxl's default\n",
      "  warn(\"Workbook contains no default style, apply openpyxl's default\")\n",
      "d:\\Python\\lib\\site-packages\\openpyxl\\styles\\stylesheet.py:226: UserWarning: Workbook contains no default style, apply openpyxl's default\n",
      "  warn(\"Workbook contains no default style, apply openpyxl's default\")\n"
     ]
    },
    {
     "name": "stdout",
     "output_type": "stream",
     "text": [
      "No such sheet in file a.xlsx\n",
      "No such sheet in file aa.xlsx\n",
      "No such sheet in file Combined_LineDataFormat_20230215_tarfish_NP_SO-1-46587_Phase1.xlsx\n"
     ]
    }
   ],
   "source": [
    "dataFrameNew = pd.DataFrame()\n",
    "inputFolder = \"D:/Covid_data_New/Yr2023/Feb/Feb16/\"\n",
    "filesInDirectory = listdir(inputFolder)\n",
    "for files in filesInDirectory:\n",
    "    if \"xlsx\" in files:\n",
    "        try:\n",
    "            exportedFile = pd.read_excel(inputFolder+\"/\"+files,sheet_name = \"Primary_result\",header=None, engine=\"openpyxl\")\n",
    "            metaDF, export = readExcelFiles(exportedFile)\n",
    "            listAddElemane, listAddHeader = getmetaDataInfo(metaDF)\n",
    "            datFrame = implementLogic(export,listAddElemane,listAddHeader)\n",
    "            dataFrameNew = pd.concat([datFrame,dataFrameNew])\n",
    "        except:\n",
    "            print(\"No such sheet in file, skipping \" + files)\n",
    "        \n",
    "writer = pd.ExcelWriter(\"D:/Covid_data_New/Yr2023/Feb/Feb16/aa.xlsx\")\n",
    "dataFrameNew.to_excel(writer,sheet_name=\"Test\",engine='xlsxwriter',index=False)\n",
    "writer.close()"
   ]
  }
 ],
 "metadata": {
  "kernelspec": {
   "display_name": "Python 3",
   "language": "python",
   "name": "python3"
  },
  "language_info": {
   "codemirror_mode": {
    "name": "ipython",
    "version": 3
   },
   "file_extension": ".py",
   "mimetype": "text/x-python",
   "name": "python",
   "nbconvert_exporter": "python",
   "pygments_lexer": "ipython3",
   "version": "3.8.5"
  },
  "orig_nbformat": 4,
  "vscode": {
   "interpreter": {
    "hash": "2469a70536e4d2335a2ea8907942d0699c37342a371ac185bdb5b0aa6f073890"
   }
  }
 },
 "nbformat": 4,
 "nbformat_minor": 2
}
