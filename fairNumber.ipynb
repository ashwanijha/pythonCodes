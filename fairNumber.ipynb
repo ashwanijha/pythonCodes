{
 "cells": [
  {
   "attachments": {},
   "cell_type": "markdown",
   "metadata": {},
   "source": [
    "Perl map functions"
   ]
  },
  {
   "cell_type": "code",
   "execution_count": 8,
   "metadata": {},
   "outputs": [
    {
     "name": "stdout",
     "output_type": "stream",
     "text": [
      "{0: 3, 1: 5, 2: 11} {0: 4, 1: 5, 2: 11} 1\n"
     ]
    }
   ],
   "source": [
    "def solution(A,B):\n",
    "    lengthA = len(A)\n",
    "    hashA = {}\n",
    "    hashB = {}\n",
    "    sumA = 0\n",
    "    sumB = 0\n",
    "    for i in range(0,lengthA):\n",
    "        sumA+=A[i]\n",
    "        sumB+=B[i]\n",
    "        hashA[i]=sumA\n",
    "        hashB[i]=sumB\n",
    "    \n",
    "    allValues = []\n",
    "    for i in hashA:\n",
    "        #print(i,hashA[i],hashB[i])\n",
    "        if hashA[i] == hashB[i]:\n",
    "            allValues.append(i)\n",
    "        \n",
    "    fair = min(allValues)\n",
    "    print(hashA,hashB,fair)\n",
    "\n",
    "A = [3, 2, 6]\n",
    "B = [4, 1, 6]\n",
    "solution(A,B)"
   ]
  }
 ],
 "metadata": {
  "kernelspec": {
   "display_name": "Python 3",
   "language": "python",
   "name": "python3"
  },
  "language_info": {
   "codemirror_mode": {
    "name": "ipython",
    "version": 3
   },
   "file_extension": ".py",
   "mimetype": "text/x-python",
   "name": "python",
   "nbconvert_exporter": "python",
   "pygments_lexer": "ipython3",
   "version": "3.8.5"
  },
  "orig_nbformat": 4,
  "vscode": {
   "interpreter": {
    "hash": "2469a70536e4d2335a2ea8907942d0699c37342a371ac185bdb5b0aa6f073890"
   }
  }
 },
 "nbformat": 4,
 "nbformat_minor": 2
}
