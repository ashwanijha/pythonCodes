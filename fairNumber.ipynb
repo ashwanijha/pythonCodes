{
 "cells": [
  {
   "attachments": {},
   "cell_type": "markdown",
   "metadata": {},
   "source": [
    "Perl map functions"
   ]
  },
  {
   "cell_type": "code",
   "execution_count": null,
   "metadata": {},
   "outputs": [
    {
     "name": "stdout",
     "output_type": "stream",
     "text": [
      "{0: 3, 1: 5, 2: 11} {0: 4, 1: 5, 2: 11} 1\n"
     ]
    }
   ],
   "source": [
    "def solution(A,B):\n",
    "    lengthA = len(A)\n",
    "    hashA = {}\n",
    "    hashB = {}\n",
    "    sumA = 0\n",
    "    sumB = 0\n",
    "    for i in range(0,lengthA):\n",
    "        sumA+=A[i]\n",
    "        sumB+=B[i]\n",
    "        hashA[i]=sumA\n",
    "        hashB[i]=sumB\n",
    "    \n",
    "    allValues = []\n",
    "    for i in hashA:\n",
    "        #print(i,hashA[i],hashB[i])\n",
    "        if hashA[i] == hashB[i]:\n",
    "            allValues.append(i)\n",
    "        \n",
    "    fair = min(allValues)\n",
    "    print(hashA,hashB,fair)\n",
    "\n",
    "A = [3, 2, 6]\n",
    "B = [4, 1, 6]\n",
    "solution(A,B)"
   ]
  },
  {
   "cell_type": "code",
   "execution_count": 9,
   "metadata": {},
   "outputs": [
    {
     "ename": "KeyboardInterrupt",
     "evalue": "",
     "output_type": "error",
     "traceback": [
      "\u001b[1;31m---------------------------------------------------------------------------\u001b[0m",
      "\u001b[1;31mKeyboardInterrupt\u001b[0m                         Traceback (most recent call last)",
      "\u001b[1;32md:\\pythonCodes\\fairNumber.ipynb Cell 3\u001b[0m in \u001b[0;36m<cell line: 2>\u001b[1;34m()\u001b[0m\n\u001b[0;32m      <a href='vscode-notebook-cell:/d%3A/pythonCodes/fairNumber.ipynb#W2sZmlsZQ%3D%3D?line=4'>5</a>\u001b[0m splitLine \u001b[39m=\u001b[39m readLine\u001b[39m.\u001b[39msplit(\u001b[39m\"\u001b[39m\u001b[39m\\t\u001b[39;00m\u001b[39m\"\u001b[39m)\n\u001b[0;32m      <a href='vscode-notebook-cell:/d%3A/pythonCodes/fairNumber.ipynb#W2sZmlsZQ%3D%3D?line=5'>6</a>\u001b[0m \u001b[39mwith\u001b[39;00m(\u001b[39mopen\u001b[39m(\u001b[39m\"\u001b[39m\u001b[39mD:/Covid_data_New/Yr2023/6Jun/20Jun/ampSIFDataFormat.txt\u001b[39m\u001b[39m\"\u001b[39m,\u001b[39m\"\u001b[39m\u001b[39mr\u001b[39m\u001b[39m\"\u001b[39m)) \u001b[39mas\u001b[39;00m file1:\n\u001b[1;32m----> <a href='vscode-notebook-cell:/d%3A/pythonCodes/fairNumber.ipynb#W2sZmlsZQ%3D%3D?line=6'>7</a>\u001b[0m     \u001b[39mfor\u001b[39;00m readLine1 \u001b[39min\u001b[39;00m file1:\n\u001b[0;32m      <a href='vscode-notebook-cell:/d%3A/pythonCodes/fairNumber.ipynb#W2sZmlsZQ%3D%3D?line=7'>8</a>\u001b[0m         readLine1 \u001b[39m=\u001b[39m readLine1\u001b[39m.\u001b[39mstrip()\n\u001b[0;32m      <a href='vscode-notebook-cell:/d%3A/pythonCodes/fairNumber.ipynb#W2sZmlsZQ%3D%3D?line=8'>9</a>\u001b[0m         splitLine1 \u001b[39m=\u001b[39m readLine1\u001b[39m.\u001b[39msplit(\u001b[39m\"\u001b[39m\u001b[39m\\t\u001b[39;00m\u001b[39m\"\u001b[39m)\n",
      "File \u001b[1;32md:\\Python\\lib\\encodings\\cp1252.py:22\u001b[0m, in \u001b[0;36mIncrementalDecoder.decode\u001b[1;34m(self, input, final)\u001b[0m\n\u001b[0;32m     21\u001b[0m \u001b[39mclass\u001b[39;00m \u001b[39mIncrementalDecoder\u001b[39;00m(codecs\u001b[39m.\u001b[39mIncrementalDecoder):\n\u001b[1;32m---> 22\u001b[0m     \u001b[39mdef\u001b[39;00m \u001b[39mdecode\u001b[39m(\u001b[39mself\u001b[39m, \u001b[39minput\u001b[39m, final\u001b[39m=\u001b[39m\u001b[39mFalse\u001b[39;00m):\n\u001b[0;32m     23\u001b[0m         \u001b[39mreturn\u001b[39;00m codecs\u001b[39m.\u001b[39mcharmap_decode(\u001b[39minput\u001b[39m,\u001b[39mself\u001b[39m\u001b[39m.\u001b[39merrors,decoding_table)[\u001b[39m0\u001b[39m]\n",
      "\u001b[1;31mKeyboardInterrupt\u001b[0m: "
     ]
    }
   ],
   "source": [
    "oFile = open(\"D:/Covid_data_New/Yr2023/6Jun/20Jun/ampSiFDataMatched.txt\",\"w\")\n",
    "with(open(\"D:/Covid_data_New/Yr2023/6Jun/20Jun/ampPerfdata.txt\",\"r\")) as file:\n",
    "    for readLine in file:\n",
    "        readLine = readLine.strip()\n",
    "        splitLine = readLine.split(\"\\t\")\n",
    "        with(open(\"D:/Covid_data_New/Yr2023/6Jun/20Jun/ampSIFDataFormat.txt\",\"r\")) as file1:\n",
    "            for readLine1 in file1:\n",
    "                readLine1 = readLine1.strip()\n",
    "                splitLine1 = readLine1.split(\"\\t\")\n",
    "                if splitLine[0] == splitLine1[0] and splitLine[1] == splitLine1[1] and splitLine[2] == splitLine1[2]:\n",
    "                    oFile.write(readLine+\"\\t\"+readLine1+\"\\n\")\n",
    "                    break\n",
    "oFile.close()\n",
    "        \n"
   ]
  }
 ],
 "metadata": {
  "kernelspec": {
   "display_name": "Python 3",
   "language": "python",
   "name": "python3"
  },
  "language_info": {
   "codemirror_mode": {
    "name": "ipython",
    "version": 3
   },
   "file_extension": ".py",
   "mimetype": "text/x-python",
   "name": "python",
   "nbconvert_exporter": "python",
   "pygments_lexer": "ipython3",
   "version": "3.8.5"
  },
  "orig_nbformat": 4,
  "vscode": {
   "interpreter": {
    "hash": "2469a70536e4d2335a2ea8907942d0699c37342a371ac185bdb5b0aa6f073890"
   }
  }
 },
 "nbformat": 4,
 "nbformat_minor": 2
}
