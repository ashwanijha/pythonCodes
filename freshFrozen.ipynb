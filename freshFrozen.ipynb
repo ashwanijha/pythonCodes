{
 "cells": [
  {
   "cell_type": "code",
   "execution_count": 2,
   "metadata": {},
   "outputs": [
    {
     "name": "stderr",
     "output_type": "stream",
     "text": [
      "d:\\Python\\lib\\site-packages\\openpyxl\\styles\\stylesheet.py:226: UserWarning: Workbook contains no default style, apply openpyxl's default\n",
      "  warn(\"Workbook contains no default style, apply openpyxl's default\")\n"
     ]
    }
   ],
   "source": [
    "import pandas as pd\n",
    "from statistics import mean, stdev\n",
    "\n",
    "inFolder = \"D:/Covid_data_New/Yr2023/March/27March/\"\n",
    "comb = pd.read_excel(inFolder+\"/20230321_SFSH_FFE_Plate01_0044_20230323_093042.xlsx\",skiprows=26)\n",
    "\n"
   ]
  },
  {
   "cell_type": "code",
   "execution_count": 10,
   "metadata": {},
   "outputs": [
    {
     "name": "stdout",
     "output_type": "stream",
     "text": [
      "C19_NP_2x_Fresh\t36.585063880540254\t6.107914818127366\n",
      "C19_NP_5x_Fresh\t36.3751295652038\t6.229167698737733\n",
      "NEG_NP_0x_Fresh\t37.91143842081307\t6.306193684485357\n",
      "C19_AN_2x_Fresh\t36.73577459397573\t5.854679739752317\n",
      "C19_AN_5x_Fresh\t36.53916899755649\t5.943128672875094\n",
      "NEG_AN_0x_Fresh\t37.95879696104967\t5.975998035194278\n",
      "PC\t34.23357261151871\t3.891282781956184\n",
      "NC\t38.60036371990055\t5.365749843577094\n"
     ]
    }
   ],
   "source": [
    "import numpy as np\n",
    "from statistics import mean,stdev\n",
    "samples = dict()\n",
    "for i in comb.index:\n",
    "    if pd.isna(comb.loc[i,'Sample']):\n",
    "        continue\n",
    "    rep = comb.loc[i,'Sample']\n",
    "    #print(rep)\n",
    "    names = rep.split(\"_Rep\")\n",
    "    cq = comb.loc[i,'Cq']\n",
    "    if cq == \"UNDETERMINED\":\n",
    "        cq = 41\n",
    "    samples.setdefault(names[0],[]).append(cq)\n",
    "oFIle = open(inFolder+\"/xx.txt\",\"w\")\n",
    "for key in samples:\n",
    "    m = mean(samples.get(key))\n",
    "    print(key+\"\\t\"+str(m)+\"\\t\"+str(stdev(samples.get(key))))\n",
    "    \n",
    "    oFIle.write(key+\"\\t\"+str(s)+\"\\n\")\n",
    "#print(samples)\n",
    "oFIle.close()"
   ]
  }
 ],
 "metadata": {
  "kernelspec": {
   "display_name": "Python 3",
   "language": "python",
   "name": "python3"
  },
  "language_info": {
   "codemirror_mode": {
    "name": "ipython",
    "version": 3
   },
   "file_extension": ".py",
   "mimetype": "text/x-python",
   "name": "python",
   "nbconvert_exporter": "python",
   "pygments_lexer": "ipython3",
   "version": "3.8.5"
  },
  "orig_nbformat": 4
 },
 "nbformat": 4,
 "nbformat_minor": 2
}
