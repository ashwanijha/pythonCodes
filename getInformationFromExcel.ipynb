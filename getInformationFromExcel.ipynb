{
 "cells": [
  {
   "cell_type": "code",
   "execution_count": 53,
   "metadata": {},
   "outputs": [
    {
     "name": "stderr",
     "output_type": "stream",
     "text": [
      "d:\\Python\\lib\\site-packages\\openpyxl\\styles\\stylesheet.py:226: UserWarning: Workbook contains no default style, apply openpyxl's default\n",
      "  warn(\"Workbook contains no default style, apply openpyxl's default\")\n",
      "d:\\Python\\lib\\site-packages\\openpyxl\\styles\\stylesheet.py:226: UserWarning: Workbook contains no default style, apply openpyxl's default\n",
      "  warn(\"Workbook contains no default style, apply openpyxl's default\")\n",
      "d:\\Python\\lib\\site-packages\\openpyxl\\styles\\stylesheet.py:226: UserWarning: Workbook contains no default style, apply openpyxl's default\n",
      "  warn(\"Workbook contains no default style, apply openpyxl's default\")\n"
     ]
    }
   ],
   "source": [
    "import pandas as pd\n",
    "import numpy as np\n",
    "from os import listdir\n",
    "bigDF = pd.DataFrame()\n",
    "inputFolder = \"D:/Covid_data_New/Yr2023/Feb/Feb27/\"\n",
    "listName = 0\n",
    "filesInDir = listdir(inputFolder)\n",
    "listExcel = []\n",
    "for file in filesInDir:\n",
    "    if \"xlsx\" in file:\n",
    "        listExcel.append(file)\n",
    "#print(filesInDir)\n",
    "for excelFile in listExcel:\n",
    "    listName+=1\n",
    "    annotationFile = pd.read_excel(inputFolder+\"/\"+excelFile,header=None,sheet_name=\"Results\")\n",
    "    metaData = annotationFile[:20]\n",
    "\n",
    "    dataForInfo = []\n",
    "    j=0\n",
    "    for i in metaData[0]:\n",
    "        if i == \"File Name\":\n",
    "            dataForInfo.append(metaData[1][j])\n",
    "        if i == \"Instrument Type\":\n",
    "            dataForInfo.append(metaData[1][j])\n",
    "        if i == \"Block Type\":\n",
    "            dataForInfo.append(metaData[1][j])\n",
    "        if i == \"Passive Reference\":\n",
    "            dataForInfo.append(metaData[1][j])      \n",
    "        j+=1\n",
    "\n",
    "    \n",
    "\n",
    "    completeData = annotationFile[20:]\n",
    "    #print(completeData)\n",
    "    completeData1 = pd.DataFrame(completeData.values[1:],columns= completeData.iloc[0])\n",
    "\n",
    "    sampleList = []\n",
    "    targetDayes = []\n",
    "    for i in completeData1.index:\n",
    "        samples = completeData1.loc[i,\"Sample\"]\n",
    "        targetDayes.append(completeData1.loc[i,\"Reporter\"])\n",
    "        sampleList.append(samples)\n",
    "\n",
    "    dyes = np.unique(targetDayes)\n",
    "    totalSamples = len(sampleList)/len(dyes)\n",
    "    dataForInfo.append(totalSamples)\n",
    "\n",
    "    \n",
    "    dataForInfo.append(dyes)\n",
    "    dataFrame = pd.DataFrame([dataForInfo],[listName],[\"File Name\",\"Instrument Type\",\"Block Type\",\"Passive Reference\",\"Total Samples\",\"Reporter\"])\n",
    "    bigDF = pd.concat([dataFrame,bigDF])\n",
    "    \n",
    "\n",
    "bigDF = bigDF[::-1]\n",
    "outFolder = \"D:/Covid_data_New/Yr2023/Feb/Feb27/\"\n",
    "excelWriter = pd.ExcelWriter(outFolder+\"/aa.xlsx\")\n",
    "bigDF.to_excel(excel_writer=excelWriter,sheet_name= \"Data\",index=False)\n",
    "excelWriter.close()"
   ]
  }
 ],
 "metadata": {
  "kernelspec": {
   "display_name": "Python 3",
   "language": "python",
   "name": "python3"
  },
  "language_info": {
   "codemirror_mode": {
    "name": "ipython",
    "version": 3
   },
   "file_extension": ".py",
   "mimetype": "text/x-python",
   "name": "python",
   "nbconvert_exporter": "python",
   "pygments_lexer": "ipython3",
   "version": "3.8.5"
  },
  "orig_nbformat": 4,
  "vscode": {
   "interpreter": {
    "hash": "2469a70536e4d2335a2ea8907942d0699c37342a371ac185bdb5b0aa6f073890"
   }
  }
 },
 "nbformat": 4,
 "nbformat_minor": 2
}
