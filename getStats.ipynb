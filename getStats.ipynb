{
 "cells": [
  {
   "cell_type": "code",
   "execution_count": 24,
   "metadata": {},
   "outputs": [
    {
     "ename": "IndentationError",
     "evalue": "expected an indented block (1900669625.py, line 33)",
     "output_type": "error",
     "traceback": [
      "\u001b[1;36m  Input \u001b[1;32mIn [24]\u001b[1;36m\u001b[0m\n\u001b[1;33m    for key in dic:\u001b[0m\n\u001b[1;37m    ^\u001b[0m\n\u001b[1;31mIndentationError\u001b[0m\u001b[1;31m:\u001b[0m expected an indented block\n"
     ]
    }
   ],
   "source": [
    "import pandas as pd\n",
    "from os import listdir\n",
    "from statistics import mean, stdev\n",
    "\n",
    "target=[\"ABY\",\"ALEXA 647\",\"FAM\",\"JUN\",\"VIC\"]\n",
    "datF = pd.DataFrame()\n",
    "inFolder = \"D:/Covid_data_New/Yr2023/March/9March/formean\"\n",
    "allFiles = listdir(inFolder)\n",
    "dic = dict()\n",
    "for files in allFiles:\n",
    "    \n",
    "    print(files)\n",
    "    try:\n",
    "        file = pd.read_excel(inFolder+\"/\"+files,sheet_name=\"Primary_result\",skiprows=26)\n",
    "        file = file.replace(to_replace=\"UNDETERMINED\",value=41)\n",
    "        for i in file.index:\n",
    "            samples = file.loc[i,\"Sample\"]\n",
    "            #samples = samples.replace(to_rtp)\n",
    "            if samples == \"PC_PC\" or samples == \"NC_NC\":\n",
    "                continue\n",
    "            if pd.isnull(samples):\n",
    "                continue\n",
    "            s = str(samples)\n",
    "            s = s.replace(\" \",\"\")\n",
    "            sam = s.split(\"_\")\n",
    "            reporter = file.loc[i,\"Reporter\"]\n",
    "            cq = file.loc[i,\"Cq\"]\n",
    "            sampleRep = str(sam[0])+\"\\t\"+str(reporter)\n",
    "            dic.setdefault(sampleRep,[]).append(cq)\n",
    "    except:\n",
    "        print(\"no file\")\n",
    "for tgt in target:\n",
    "    for key in dic:\n",
    "        s = key.split(\"\\t\")\n",
    "        if tgt == s[1]:\n",
    "\n",
    "            listL = [s[0],s[1],\"%.3f\" % mean(dic.get(key)),\"%.3f\" % stdev(dic.get(key))]\n",
    "            df = pd.DataFrame([listL],[s[1]],[\"Sample\",\"Dye\",\"Mean\",\"SD\"])\n",
    "            datF = pd.concat([df,datF])\n",
    "#        print(key)\n",
    "#print(datF)\n",
    "datF = datF[::-1]\n",
    "writer = pd.ExcelWriter(inFolder+\"/Combined_MLAnnotationData_AllDetails_20230301_AJ.xlsx\")\n",
    "datF.to_excel(writer,sheet_name=\"data\",index=False)\n",
    "writer.close()"
   ]
  }
 ],
 "metadata": {
  "kernelspec": {
   "display_name": "Python 3",
   "language": "python",
   "name": "python3"
  },
  "language_info": {
   "codemirror_mode": {
    "name": "ipython",
    "version": 3
   },
   "file_extension": ".py",
   "mimetype": "text/x-python",
   "name": "python",
   "nbconvert_exporter": "python",
   "pygments_lexer": "ipython3",
   "version": "3.8.5"
  },
  "orig_nbformat": 4
 },
 "nbformat": 4,
 "nbformat_minor": 2
}
