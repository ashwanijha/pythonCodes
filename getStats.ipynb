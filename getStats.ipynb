{
 "cells": [
  {
   "cell_type": "code",
   "execution_count": 3,
   "metadata": {},
   "outputs": [
    {
     "name": "stdout",
     "output_type": "stream",
     "text": [
      "20230321_SFSH_FFE_Plate01_0044_20230323_093042\n",
      "no file\n",
      "20230321_SFSH_FFE_Plate01_0044_20230323_093042.xlsx\n",
      "20230321_SFSH_FFE_Plate02_0160_20230322_151139\n",
      "no file\n",
      "20230321_SFSH_FFE_Plate02_0160_20230322_151139.xlsx\n"
     ]
    },
    {
     "name": "stderr",
     "output_type": "stream",
     "text": [
      "d:\\Python\\lib\\site-packages\\openpyxl\\styles\\stylesheet.py:226: UserWarning: Workbook contains no default style, apply openpyxl's default\n",
      "  warn(\"Workbook contains no default style, apply openpyxl's default\")\n",
      "d:\\Python\\lib\\site-packages\\openpyxl\\styles\\stylesheet.py:226: UserWarning: Workbook contains no default style, apply openpyxl's default\n",
      "  warn(\"Workbook contains no default style, apply openpyxl's default\")\n"
     ]
    },
    {
     "name": "stdout",
     "output_type": "stream",
     "text": [
      "20230321_SFSH_FFE_Plate03_0044_20230322_151206\n",
      "no file\n",
      "20230321_SFSH_FFE_Plate03_0044_20230322_151206.xlsx\n",
      "20230321_SFSH_FFE_Plate04_0061_20230322_151152\n",
      "no file\n",
      "20230321_SFSH_FFE_Plate04_0061_20230322_151152.xlsx\n",
      "20230323_SFSH_FFE_Plate07_0160_20230324_104234\n",
      "no file\n",
      "20230323_SFSH_FFE_Plate07_0160_20230324_104234.xlsx\n"
     ]
    },
    {
     "name": "stderr",
     "output_type": "stream",
     "text": [
      "d:\\Python\\lib\\site-packages\\openpyxl\\styles\\stylesheet.py:226: UserWarning: Workbook contains no default style, apply openpyxl's default\n",
      "  warn(\"Workbook contains no default style, apply openpyxl's default\")\n",
      "d:\\Python\\lib\\site-packages\\openpyxl\\styles\\stylesheet.py:226: UserWarning: Workbook contains no default style, apply openpyxl's default\n",
      "  warn(\"Workbook contains no default style, apply openpyxl's default\")\n"
     ]
    },
    {
     "name": "stdout",
     "output_type": "stream",
     "text": [
      "20230323_SFSH_FFE_Plate08_0061_20230324_104220\n",
      "no file\n",
      "20230323_SFSH_FFE_Plate08_0061_20230324_104220.xlsx\n",
      "20230323_SFSH_FFE_Plate09_0170_20230324_104202\n",
      "no file\n",
      "20230323_SFSH_FFE_Plate09_0170_20230324_104202.xlsx\n"
     ]
    },
    {
     "name": "stderr",
     "output_type": "stream",
     "text": [
      "d:\\Python\\lib\\site-packages\\openpyxl\\styles\\stylesheet.py:226: UserWarning: Workbook contains no default style, apply openpyxl's default\n",
      "  warn(\"Workbook contains no default style, apply openpyxl's default\")\n",
      "d:\\Python\\lib\\site-packages\\openpyxl\\styles\\stylesheet.py:226: UserWarning: Workbook contains no default style, apply openpyxl's default\n",
      "  warn(\"Workbook contains no default style, apply openpyxl's default\")\n"
     ]
    },
    {
     "name": "stdout",
     "output_type": "stream",
     "text": [
      "20230323_SFSH_FFE_Plate10_0182_20230324_104139\n",
      "no file\n",
      "20230323_SFSH_FFE_Plate10_0182_20230324_104139.xlsx\n",
      "20230323_SFSH_FFE_Plate11_0063_20230324_104148\n",
      "no file\n",
      "20230323_SFSH_FFE_Plate11_0063_20230324_104148.xlsx\n"
     ]
    },
    {
     "name": "stderr",
     "output_type": "stream",
     "text": [
      "d:\\Python\\lib\\site-packages\\openpyxl\\styles\\stylesheet.py:226: UserWarning: Workbook contains no default style, apply openpyxl's default\n",
      "  warn(\"Workbook contains no default style, apply openpyxl's default\")\n",
      "d:\\Python\\lib\\site-packages\\openpyxl\\styles\\stylesheet.py:226: UserWarning: Workbook contains no default style, apply openpyxl's default\n",
      "  warn(\"Workbook contains no default style, apply openpyxl's default\")\n"
     ]
    },
    {
     "name": "stdout",
     "output_type": "stream",
     "text": [
      "20230323_SFSH_FFE_Plate12_0046_20230324_104128\n",
      "no file\n",
      "20230323_SFSH_FFE_Plate12_0046_20230324_104128.xlsx\n",
      "20230327_20230321_SFSH_FFE_Plate01-04_07-12_summary.pptx\n",
      "no file\n",
      "analysis.xlsx\n",
      "no file\n",
      "Combined_Data\n",
      "no file\n",
      "Combined_MLAnnotationData_AllDetails_20230301_AJ.xlsx\n",
      "no file\n",
      "xx.txt\n",
      "no file\n",
      "~$20230327_20230321_SFSH_FFE_Plate01-04_07-12_summary.pptx\n",
      "no file\n"
     ]
    },
    {
     "name": "stderr",
     "output_type": "stream",
     "text": [
      "d:\\Python\\lib\\site-packages\\openpyxl\\styles\\stylesheet.py:226: UserWarning: Workbook contains no default style, apply openpyxl's default\n",
      "  warn(\"Workbook contains no default style, apply openpyxl's default\")\n"
     ]
    }
   ],
   "source": [
    "import pandas as pd\n",
    "from os import listdir\n",
    "from statistics import mean, stdev\n",
    "\n",
    "target=[\"ABY\",\"ALEXA 647\",\"FAM\",\"JUN\",\"VIC\"]\n",
    "datF = pd.DataFrame()\n",
    "inFolder = \"D:/Covid_data_New/Yr2023/March/27March\"\n",
    "allFiles = listdir(inFolder)\n",
    "\n",
    "dic = dict()\n",
    "for files in allFiles:\n",
    "    \n",
    "    print(files)\n",
    "    try:\n",
    "        file = pd.read_excel(inFolder+\"/\"+files,sheet_name=\"Primary_result\",skiprows=26)\n",
    "        file = file.replace(to_replace=\"UNDETERMINED\",value=41)\n",
    "        for i in file.index:\n",
    "            samples = file.loc[i,\"Sample\"]\n",
    "            if samples == \"PC\" or samples == \"NEG\":\n",
    "                continue\n",
    "            if pd.isnull(samples):\n",
    "                continue\n",
    "            s = str(samples)\n",
    "            s = s.replace(\" \",\"\")\n",
    "            sam = s.split(\"_Rep\")\n",
    "            reporter = file.loc[i,\"Reporter\"]\n",
    "            cq = file.loc[i,\"Cq\"]\n",
    "            sampleRep = str(sam[0])+\"\\t\"+str(reporter)\n",
    "            dic.setdefault(sampleRep,[]).append(cq)\n",
    "    except:\n",
    "        print(\"no file\")\n",
    "for tgt in target:\n",
    "    for key in dic:\n",
    "        s = key.split(\"\\t\")\n",
    "        if tgt == s[1]:\n",
    "\n",
    "            listL = [s[0],s[1],\"%.2f\" % mean(dic.get(key)),\"%.3f\" % stdev(dic.get(key))]\n",
    "            df = pd.DataFrame([listL],[s[1]],[\"Sample\",\"Dye\",\"Mean\",\"SD\"])\n",
    "            datF = pd.concat([df,datF])\n",
    "#        print(key)\n",
    "#print(datF)\n",
    "datF = datF[::-1]\n",
    "writer = pd.ExcelWriter(inFolder+\"/Combined_MLAnnotationData_AllDetails_20230301_AJ.xlsx\")\n",
    "datF.to_excel(writer,sheet_name=\"data\",index=False)\n",
    "writer.close()"
   ]
  }
 ],
 "metadata": {
  "kernelspec": {
   "display_name": "Python 3",
   "language": "python",
   "name": "python3"
  },
  "language_info": {
   "codemirror_mode": {
    "name": "ipython",
    "version": 3
   },
   "file_extension": ".py",
   "mimetype": "text/x-python",
   "name": "python",
   "nbconvert_exporter": "python",
   "pygments_lexer": "ipython3",
   "version": "3.8.5"
  },
  "orig_nbformat": 4
 },
 "nbformat": 4,
 "nbformat_minor": 2
}
