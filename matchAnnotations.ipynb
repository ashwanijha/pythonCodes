{
 "cells": [
  {
   "cell_type": "code",
   "execution_count": 26,
   "metadata": {},
   "outputs": [],
   "source": [
    "import pandas as pd\n",
    "inputFolder = \"D:/Covid_data_New/Yr2023/Feb/Feb21/Res\"\n",
    "annotationFile = pd.read_excel(inputFolder+\"/Combined_MLAnnotationData_AllDetails_forMyPython.xlsx\")\n"
   ]
  },
  {
   "cell_type": "code",
   "execution_count": 30,
   "metadata": {},
   "outputs": [],
   "source": [
    "for i in annotationFile.index:\n",
    "    string = annotationFile.loc[i,\"FileName\"].split(\".eds\")\n",
    "    wellAnnotation = annotationFile.loc[i,\"Well_Position\"]\n",
    "    targetAnnotation = annotationFile.loc[i,\"Target\"]\n",
    "    csvFile = string[0]+\".csv\"\n",
    "    try:\n",
    "        csvFileReader = pd.read_csv(inputFolder+\"/\"+csvFile)\n",
    "        match = 0\n",
    "        for j in csvFileReader.index:\n",
    "            wellCSV = csvFileReader.loc[j,\"Well\"]\n",
    "            targetCSV = csvFileReader.loc[j,\"Target\"]\n",
    "            if wellAnnotation == wellCSV and targetAnnotation == targetCSV:\n",
    "                match +=1\n",
    "                annotationFile.at[i,\"Clean|ProblemSevere|ProblemLite\"] = \"ProblemLite\"\n",
    "                annotationFile.at[i,\"Artifact (Bubble|BaselineIssue|WaterFall|SystemError|Smiley|Creeper|CrossTalk|RoosterTail|NoisyBaseline|Abnormal)\"] = \"NoisyBaseline\"\n",
    "    except:\n",
    "        annotationFile.at[i,\"Clean|ProblemSevere|ProblemLite\"] = \"Clean\"\n",
    "\n",
    "    if annotationFile.loc[i,\"AmpType (Clear|Strong|Weak|NoAmp)\"] == \"NoAmp\":\n",
    "        annotationFile.at[\"AmpStatus (Amp|Non_Amp|Unknown) -Annotator\"] = \"Non_Amp\"\n",
    "    else:\n",
    "        annotationFile.at[\"AmpStatus (Amp|Non_Amp|Unknown) -Annotator\"] = \"Amp\"\n",
    "    \n",
    "    annotationFile.at[\"Annotator\"] = \"Ashwani\"\n",
    "        \n",
    "writer = pd.ExcelWriter(inputFolder+\"/testing.xlsx\")\n",
    "annotationFile.to_excel(writer,sheet_name=\"Sheet new\",index=False)\n",
    "writer.close()\n"
   ]
  }
 ],
 "metadata": {
  "kernelspec": {
   "display_name": "Python 3",
   "language": "python",
   "name": "python3"
  },
  "language_info": {
   "codemirror_mode": {
    "name": "ipython",
    "version": 3
   },
   "file_extension": ".py",
   "mimetype": "text/x-python",
   "name": "python",
   "nbconvert_exporter": "python",
   "pygments_lexer": "ipython3",
   "version": "3.8.5"
  },
  "orig_nbformat": 4,
  "vscode": {
   "interpreter": {
    "hash": "2469a70536e4d2335a2ea8907942d0699c37342a371ac185bdb5b0aa6f073890"
   }
  }
 },
 "nbformat": 4,
 "nbformat_minor": 2
}
