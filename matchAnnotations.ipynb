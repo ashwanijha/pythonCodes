{
 "cells": [
  {
   "cell_type": "code",
   "execution_count": 88,
   "metadata": {},
   "outputs": [],
   "source": [
    "import pandas as pd\n",
    "\n",
    "inputFolder = \"D:/Covid_data_New/Yr2023/5May/5May/Res/\" # Outfolder of Hari's Script\n",
    "inputFolderExcels = \"D:/Covid_data_New/Yr2023/5May/5May/Excels\"  # DA exported excels\n",
    "\n",
    "def wellResultFile(inputFiles,inputFolderExcels):\n",
    "    excelFiles = pd.read_excel(inputFiles, sheet_name=\"Amplification Data\",header=None)\n",
    "    edsFile = excelFiles[:1]\n",
    "    edsFileName = edsFile[1][0].split(\"\\\\\")\n",
    "    csvFile = edsFileName[-1].split(\".eds\")\n",
    "    ofile = open(inputFolderExcels+\"/\"+csvFile[0]+\".csv\",\"w\")\n",
    "    ofile.write(\"Well,Target\\n\")\n",
    "    completeData = excelFiles[23:]\n",
    "    \n",
    "    completeData1 = pd.DataFrame(completeData.values[1:],columns= completeData.iloc[0])\n",
    "    wellPositon = {}\n",
    "    for i in completeData1.index:\n",
    "        cycleNumber = completeData1.loc[i,\"Cycle Number\"]\n",
    "        dRN = float(completeData1.loc[i,\"dRn\"])\n",
    "        if cycleNumber == 1:\n",
    "            if dRN < -20000:\n",
    "                #print(excelFiles.loc[i,\"Well Position\"],excelFiles.loc[i,\"Target\"],excelFiles.loc[i,\"dRn\"])\n",
    "                wellTarget = completeData1.loc[i,\"Well Position\"]+\"\\t\"+completeData1.loc[i,\"Target\"]\n",
    "                wellPositon[wellTarget] = dRN\n",
    "\n",
    "    for i in wellPositon:\n",
    "        a = i.split(\"\\t\")\n",
    "        ofile.write(a[0]+\",\"+a[1]+\"\\n\")\n",
    "\n",
    "    ofile.close()\n",
    "\n"
   ]
  },
  {
   "cell_type": "code",
   "execution_count": 89,
   "metadata": {},
   "outputs": [
    {
     "name": "stderr",
     "output_type": "stream",
     "text": [
      "d:\\Python\\lib\\site-packages\\openpyxl\\styles\\stylesheet.py:226: UserWarning: Workbook contains no default style, apply openpyxl's default\n",
      "  warn(\"Workbook contains no default style, apply openpyxl's default\")\n"
     ]
    }
   ],
   "source": [
    "import os\n",
    "\n",
    "files = os.listdir(inputFolderExcels)\n",
    "for file in files:\n",
    "    if \"xlsx\" in file:\n",
    "        excelFile = inputFolderExcels+\"/\"+file\n",
    "        wellResultFile(excelFile,inputFolder)"
   ]
  },
  {
   "cell_type": "code",
   "execution_count": 90,
   "metadata": {},
   "outputs": [],
   "source": [
    "annotationFiles = os.listdir(inputFolder)\n",
    "annotationFileName = \"\"\n",
    "for aFile in annotationFiles:\n",
    "    if \"AllDetails\" in aFile:\n",
    "        annotationFileName = aFile\n",
    "\n",
    "outAnnotationFileName = annotationFileName[0:annotationFileName.rindex(\"_\")]+\"_AJ.xlsx\"\n",
    "\n",
    "\n",
    "annotationFile = pd.read_excel(inputFolder+\"/\"+annotationFileName)\n"
   ]
  },
  {
   "cell_type": "code",
   "execution_count": 91,
   "metadata": {},
   "outputs": [],
   "source": [
    "for i in annotationFile.index:\n",
    "    #splitPattern = \"_20230329\"\n",
    "    splitPattern = \".eds\"\n",
    "    string = annotationFile.loc[i,\"FileName\"].split(splitPattern)\n",
    "    wellAnnotation = annotationFile.loc[i,\"Well_Position\"]\n",
    "    targetAnnotation = annotationFile.loc[i,\"Target\"]\n",
    "    csvFile = string[0]+\".csv\"\n",
    "    try:\n",
    "        csvFileReader = pd.read_csv(inputFolder+\"/\"+csvFile)\n",
    "        match = 0\n",
    "        for j in csvFileReader.index:\n",
    "            wellCSV = csvFileReader.loc[j,\"Well\"]\n",
    "            targetCSV = csvFileReader.loc[j,\"Target\"]\n",
    "            if wellAnnotation == wellCSV and targetAnnotation == targetCSV:\n",
    "                match +=1\n",
    "                annotationFile.at[i,\"Clean|ProblemSevere|ProblemLite\"] = \"ProblemLite\"\n",
    "                annotationFile.at[i,\"Artifact (Bubble|BaselineIssue|WaterFall|SystemError|Smiley|Creeper|CrossTalk|RoosterTail|NoisyBaseline|Abnormal)\"] = \"NoisyBaseline\"\n",
    "        if match == 0:\n",
    "            annotationFile.at[i,\"Clean|ProblemSevere|ProblemLite\"] = \"Clean\"\n",
    "    except:\n",
    "        annotationFile.at[i,\"Clean|ProblemSevere|ProblemLite\"] = \"Clean\"\n",
    "\n",
    "    if annotationFile.loc[i,\"AmpType (Clear|Strong|Weak|NoAmp)\"] == \"noAmp\":\n",
    "        annotationFile.at[i,\"AmpStatus (Amp|Non_Amp|Unknown) -Annotator\"] = \"Non_Amp\"\n",
    "    else:\n",
    "        annotationFile.at[i,\"AmpStatus (Amp|Non_Amp|Unknown) -Annotator\"] = \"Amp\"\n",
    "    \n",
    "    annotationFile.at[i,\"Annotator\"] = \"Ashwani\"\n",
    "        \n",
    "writer = pd.ExcelWriter(inputFolder+\"/\"+outAnnotationFileName)\n",
    "annotationFile.to_excel(writer,sheet_name=\"data\",index=False)\n",
    "writer.close()\n"
   ]
  }
 ],
 "metadata": {
  "kernelspec": {
   "display_name": "Python 3",
   "language": "python",
   "name": "python3"
  },
  "language_info": {
   "codemirror_mode": {
    "name": "ipython",
    "version": 3
   },
   "file_extension": ".py",
   "mimetype": "text/x-python",
   "name": "python",
   "nbconvert_exporter": "python",
   "pygments_lexer": "ipython3",
   "version": "3.8.5"
  },
  "orig_nbformat": 4,
  "vscode": {
   "interpreter": {
    "hash": "2469a70536e4d2335a2ea8907942d0699c37342a371ac185bdb5b0aa6f073890"
   }
  }
 },
 "nbformat": 4,
 "nbformat_minor": 2
}
