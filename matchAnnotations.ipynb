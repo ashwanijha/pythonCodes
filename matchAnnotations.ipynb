{
 "cells": [
  {
   "cell_type": "code",
   "execution_count": 4,
   "metadata": {},
   "outputs": [],
   "source": [
    "import pandas as pd\n",
    "inputFolder = \"D:/Covid_data_New/Yr2023/4April/4April/Annotation/PKK\"\n",
    "annotationFile = pd.read_excel(inputFolder+\"/Combined_MLAnnotationData_AllDetails_20230404_0505PM.xlsx\")\n"
   ]
  },
  {
   "cell_type": "code",
   "execution_count": 3,
   "metadata": {},
   "outputs": [],
   "source": [
    "for i in annotationFile.index:\n",
    "    #splitPattern = \"_20230329\"\n",
    "    splitPattern = \".eds\"\n",
    "    string = annotationFile.loc[i,\"FileName\"].split(splitPattern)\n",
    "    wellAnnotation = annotationFile.loc[i,\"Well_Position\"]\n",
    "    targetAnnotation = annotationFile.loc[i,\"Target\"]\n",
    "    csvFile = string[0]+\".csv\"\n",
    "    #print(csvFile)\n",
    "    try:\n",
    "        csvFileReader = pd.read_csv(inputFolder+\"/\"+csvFile)\n",
    "        match = 0\n",
    "        for j in csvFileReader.index:\n",
    "            wellCSV = csvFileReader.loc[j,\"Well\"]\n",
    "            targetCSV = csvFileReader.loc[j,\"Target\"]\n",
    "            if wellAnnotation == wellCSV and targetAnnotation == targetCSV:\n",
    "                match +=1\n",
    "                annotationFile.at[i,\"Clean|ProblemSevere|ProblemLite\"] = \"ProblemLite\"\n",
    "                annotationFile.at[i,\"Artifact (Bubble|BaselineIssue|WaterFall|SystemError|Smiley|Creeper|CrossTalk|RoosterTail|NoisyBaseline|Abnormal)\"] = \"NoisyBaseline\"\n",
    "        if match == 0:\n",
    "            annotationFile.at[i,\"Clean|ProblemSevere|ProblemLite\"] = \"Clean\"\n",
    "    except:\n",
    "        annotationFile.at[i,\"Clean|ProblemSevere|ProblemLite\"] = \"Clean\"\n",
    "\n",
    "    #\n",
    "    if annotationFile.loc[i,\"AmpType (Clear|Strong|Weak|NoAmp)\"] == \"noAmp\":\n",
    "        annotationFile.at[i,\"AmpStatus (Amp|Non_Amp|Unknown) -Annotator\"] = \"Non_Amp\"\n",
    "    else:\n",
    "        annotationFile.at[i,\"AmpStatus (Amp|Non_Amp|Unknown) -Annotator\"] = \"Amp\"\n",
    "    \n",
    "    annotationFile.at[i,\"Annotator\"] = \"Puneet\"\n",
    "        \n",
    "writer = pd.ExcelWriter(inputFolder+\"/Combined_MLAnnotationData_AllDetails_20230404_PKK.xlsx\")\n",
    "annotationFile.to_excel(writer,sheet_name=\"data\",index=False)\n",
    "writer.close()\n"
   ]
  }
 ],
 "metadata": {
  "kernelspec": {
   "display_name": "Python 3",
   "language": "python",
   "name": "python3"
  },
  "language_info": {
   "codemirror_mode": {
    "name": "ipython",
    "version": 3
   },
   "file_extension": ".py",
   "mimetype": "text/x-python",
   "name": "python",
   "nbconvert_exporter": "python",
   "pygments_lexer": "ipython3",
   "version": "3.8.5"
  },
  "orig_nbformat": 4,
  "vscode": {
   "interpreter": {
    "hash": "2469a70536e4d2335a2ea8907942d0699c37342a371ac185bdb5b0aa6f073890"
   }
  }
 },
 "nbformat": 4,
 "nbformat_minor": 2
}
