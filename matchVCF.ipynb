{
 "cells": [
  {
   "cell_type": "code",
   "execution_count": 1,
   "id": "feb29568",
   "metadata": {},
   "outputs": [
    {
     "name": "stdout",
     "output_type": "stream",
     "text": [
      "2L\t4860\trs205679746\tG\tA\t.\t.\tSID=BCM-HGSC-SUB_SNPASSAY_4_SUBMISSION_2010_11_14;SS_VALIDATED=1;VC=SO:0001483\trs205679746\n",
      "2L\t4895\trs204497077\tC\tA\t.\t.\tSID=BCM-HGSC-SUB_SNPASSAY_4_SUBMISSION_2010_11_14;SS_VALIDATED=1;VC=SO:0001483\trs204497077\n",
      "2L\t5111\trs203713489\tG\tT\t.\t.\tSID=BCM-HGSC-SUB_SNPASSAY_4_SUBMISSION_2010_11_14;SS_VALIDATED=1;VC=SO:0001483\trs203713489\n",
      "2L\t5153\trs204160846\tA\tC\t.\t.\tSID=BCM-HGSC-SUB_SNPASSAY_4_SUBMISSION_2010_11_14;SS_VALIDATED=1;VC=SO:0001483\trs204160846\n",
      "2L\t5530\trs207427458\tA\tG\t.\t.\tSID=BCM-HGSC-SUB_SNPASSAY_4_SUBMISSION_2010_11_14;SS_VALIDATED=1;VC=SO:0001483\trs207427458\n"
     ]
    }
   ],
   "source": [
    "import re\n",
    "\n",
    "score = []\n",
    "with open(\"match.txt\") as snpFile:\n",
    "    for line1 in snpFile:\n",
    "        score.append(line1.rstrip())\n",
    "#print (score)\n",
    "\n",
    "\n",
    "with open(\"test.vcf\") as file:\n",
    "    for line in file:\n",
    "        if(re.match(\"#\",line)):\n",
    "            pass\n",
    "        else:\n",
    "            splitLine=line.rstrip().split(\"\\t\")\n",
    "            if(splitLine[2] in score):\n",
    "                print (line.rstrip()+\"\\t\"+splitLine[2])\n",
    "\n"
   ]
  },
  {
   "cell_type": "code",
   "execution_count": null,
   "id": "1fce10d4",
   "metadata": {},
   "outputs": [],
   "source": [
    "import pandas as pd\n",
    "dataframe = pd.read_excel(\"D:/Covid_data_New/Yr2023/Jan/Jan3/Excel/2022-11-22_TaqPath C19_Flu_RSV Select_LOD_FMT_LOT-2_PLATE-2_QS7_0019_20230103 102319.xlsx\",sheet_name=\"Amplification Data\"\n",
    ",skiprows=23)\n",
    "\n"
   ]
  },
  {
   "cell_type": "code",
   "execution_count": 21,
   "id": "6856c886",
   "metadata": {},
   "outputs": [
    {
     "name": "stdout",
     "output_type": "stream",
     "text": [
      "1.5\n",
      "2.5\n",
      "3.5\n",
      "4.5\n",
      "5.5\n",
      "6.5\n",
      "7.5\n",
      "8.5\n",
      "9.5\n",
      "10.5\n",
      "11.5\n",
      "12.5\n",
      "13.5\n",
      "14.5\n",
      "15.5\n",
      "16.5\n",
      "17.5\n",
      "18.5\n",
      "19.5\n",
      "20.5\n",
      "21.5\n",
      "22.5\n",
      "23.5\n",
      "24.5\n",
      "25.5\n",
      "26.5\n",
      "0\n",
      "1\n",
      "2\n",
      "3\n"
     ]
    }
   ],
   "source": [
    "#print(dataframe['Well Position']+dataframe['Target'])\n",
    "#print(dataframe['dRn'])\n",
    "\n",
    "cond = 1.5\n",
    "while cond < 27:\n",
    "    print (cond)\n",
    "    cond +=1\n",
    "\n",
    "# use of range() to define a range of values\n",
    "values = range(4)\n",
    "\n",
    "# iterate from i = 0 to i = 3\n",
    "for i in values:\n",
    "    print(i)\n"
   ]
  }
 ],
 "metadata": {
  "kernelspec": {
   "display_name": "Python 3",
   "language": "python",
   "name": "python3"
  },
  "language_info": {
   "codemirror_mode": {
    "name": "ipython",
    "version": 3
   },
   "file_extension": ".py",
   "mimetype": "text/x-python",
   "name": "python",
   "nbconvert_exporter": "python",
   "pygments_lexer": "ipython3",
   "version": "3.8.5 (tags/v3.8.5:580fbb0, Jul 20 2020, 15:57:54) [MSC v.1924 64 bit (AMD64)]"
  },
  "vscode": {
   "interpreter": {
    "hash": "2469a70536e4d2335a2ea8907942d0699c37342a371ac185bdb5b0aa6f073890"
   }
  }
 },
 "nbformat": 4,
 "nbformat_minor": 5
}
