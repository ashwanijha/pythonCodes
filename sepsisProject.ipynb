{
 "cells": [
  {
   "attachments": {},
   "cell_type": "markdown",
   "metadata": {},
   "source": []
  },
  {
   "cell_type": "code",
   "execution_count": 1,
   "metadata": {},
   "outputs": [
    {
     "name": "stderr",
     "output_type": "stream",
     "text": [
      "d:\\Python\\lib\\site-packages\\openpyxl\\styles\\stylesheet.py:226: UserWarning: Workbook contains no default style, apply openpyxl's default\n",
      "  warn(\"Workbook contains no default style, apply openpyxl's default\")\n"
     ]
    }
   ],
   "source": [
    "import pandas as pd\n",
    "from statistics import mean, stdev\n",
    "import numpy as np\n",
    "\n",
    "inFolder = \"D:/Covid_data_New/Yr2023/5May/18May/\"\n",
    "inFile = inFolder+\"Plate 160 True Mark  Psyche 19 Apr 2023_20230516 125556.xlsx\"\n",
    "readSepsisFile = pd.read_excel(inFile,sheet_name=\"Results\",skiprows=23)\n",
    "\n",
    "reporterDyesName = np.unique(readSepsisFile[\"Reporter\"])"
   ]
  },
  {
   "cell_type": "code",
   "execution_count": 37,
   "metadata": {},
   "outputs": [],
   "source": [
    "repIdentifier = \"-\"\n",
    "data = dict()\n",
    "clinicalCall = dict()\n",
    "cqValues = dict()\n",
    "tragetMapping = dict()\n",
    "\n",
    "for i in readSepsisFile.index:\n",
    "    well = readSepsisFile.loc[i,\"Well\"]\n",
    "    wellPosition = readSepsisFile.loc[i,\"Well Position\"]\n",
    "    sampleName = readSepsisFile.loc[i,\"Sample\"].split(repIdentifier)\n",
    "    Cq = readSepsisFile.loc[i,\"Cq\"]\n",
    "    reporterDye = readSepsisFile.loc[i,\"Reporter\"]\n",
    "    targetSample = readSepsisFile.loc[i,\"Target\"]\n",
    "    keyForDict = str(sampleName[0])+\"\\t\"+str(targetSample)\n",
    "    keyForClinicalCall = str(well)+\"\\t\"+str(wellPosition)+\"\\t\"+str(readSepsisFile.loc[i,\"Sample\"])\n",
    "    if Cq == \"Undetermined\":\n",
    "        continue\n",
    "    data.setdefault(keyForDict,[]).append(Cq)\n",
    "    clinicalCall.setdefault(keyForClinicalCall,[]).append(targetSample)\n",
    "    cqValues.setdefault(keyForClinicalCall,[]).append(reporterDye+\"\\t\"+str(Cq))\n",
    "    tragetMapping.setdefault(keyForClinicalCall,[]).append(reporterDye)\n",
    "\n",
    "\n"
   ]
  },
  {
   "cell_type": "code",
   "execution_count": 71,
   "metadata": {},
   "outputs": [],
   "source": [
    "meanValue = []\n",
    "targetName = []\n",
    "sample = []\n",
    "for key in data:\n",
    "    k = key.split(\"\\t\")\n",
    "    avg = mean(data.get(key))\n",
    "    meanValue.append(avg)\n",
    "    targetName.append(k[1])\n",
    "    sample.append(k[0])\n",
    "dataCqMean = zip(sample,targetName,meanValue)\n",
    "meanTableDf = pd.DataFrame(dataCqMean, columns=['SampleName', 'Target','CqValue_Mean'])\n",
    "cqmeanTableDf=meanTableDf.pivot(index='Target', columns='SampleName', values='CqValue_Mean')\n",
    "#print(cqmeanTableDf)"
   ]
  },
  {
   "cell_type": "code",
   "execution_count": 70,
   "metadata": {},
   "outputs": [
    {
     "name": "stdout",
     "output_type": "stream",
     "text": [
      "['Well', 'well Position', 'Sample', 'FAM', 'JUN', 'VIC', 'Call']\n"
     ]
    }
   ],
   "source": [
    "bigDF = pd.DataFrame()\n",
    "header = ['Well','well Position','Sample']\n",
    "header.extend(reporterDyesName)\n",
    "header.append('Call')\n",
    "for key in clinicalCall:\n",
    "    listCqValues = []\n",
    "    for dyeName in reporterDyesName:\n",
    "        matchDyeNames = 0\n",
    "        for cqValue in cqValues.get(key):\n",
    "            dyeNameAndCq = cqValue.split(\"\\t\")\n",
    "            if dyeNameAndCq[0] == dyeName:\n",
    "                listCqValues.append(dyeNameAndCq[1])\n",
    "                matchDyeNames=1\n",
    "        if matchDyeNames == 0:\n",
    "            listCqValues.append(\"\")\n",
    "    call = \"|\".join(clinicalCall.get(key))\n",
    "   \n",
    "    d = key.split(\"\\t\")\n",
    "    listL=[d[0],d[1],d[2]]\n",
    "    listL.extend(listCqValues)\n",
    "    listL.append(call)\n",
    " \n",
    "    dataFrame = pd.DataFrame([listL],[call])\n",
    "    bigDF = pd.concat([bigDF,dataFrame])\n",
    "\n",
    "completeData1 = pd.DataFrame(bigDF.values[0:],columns= header)\n",
    "excelWriter = pd.ExcelWriter(inFolder+\"/aa.xlsx\")\n",
    "cqmeanTableDf.to_excel(excel_writer=excelWriter,sheet_name= \"mean\")\n",
    "completeData1.to_excel(excel_writer=excelWriter,sheet_name= \"Data\",index=False)\n",
    "excelWriter.close()"
   ]
  }
 ],
 "metadata": {
  "kernelspec": {
   "display_name": "Python 3",
   "language": "python",
   "name": "python3"
  },
  "language_info": {
   "codemirror_mode": {
    "name": "ipython",
    "version": 3
   },
   "file_extension": ".py",
   "mimetype": "text/x-python",
   "name": "python",
   "nbconvert_exporter": "python",
   "pygments_lexer": "ipython3",
   "version": "3.8.5"
  },
  "orig_nbformat": 4
 },
 "nbformat": 4,
 "nbformat_minor": 2
}
