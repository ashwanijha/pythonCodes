{
 "cells": [
  {
   "attachments": {},
   "cell_type": "markdown",
   "metadata": {},
   "source": []
  },
  {
   "cell_type": "code",
   "execution_count": null,
   "metadata": {},
   "outputs": [],
   "source": [
    "import pandas as pd\n",
    "import numpy as np\n",
    "\n",
    "def calculateMeanAndMedianValue(sampleName,targets,cqValue):\n",
    "    cqValuesForMeanAndMedian = zip(sampleName,targets,cqValue)\n",
    "    meanTableDf = pd.DataFrame(cqValuesForMeanAndMedian, columns=['SampleName', 'Target','CqValue'])\n",
    "    groupDataBySampleAndTarget = meanTableDf.groupby(['SampleName', 'Target'],as_index=False, sort = False)\n",
    "    meanTableDf['CqValue']= meanTableDf['CqValue'].replace(\"Undetermined\",np.NaN)\n",
    "    \n",
    "    cqMeanTable = groupDataBySampleAndTarget.aggregate(np.mean) \n",
    "    cqMeanTable['CqValue'] = cqMeanTable['CqValue'].round(2)\n",
    "    cqmeanTableDf=cqMeanTable.pivot(index='Target', columns='SampleName', values='CqValue')\n",
    "\n",
    "    cqMedianTable = groupDataBySampleAndTarget.aggregate(np.median) \n",
    "    cqMedianTable['CqValue'] = cqMedianTable['CqValue'].round(2)\n",
    "    cqMedianTableDf=cqMedianTable.pivot(index='Target', columns='SampleName', values='CqValue')\n",
    "\n",
    "    return cqmeanTableDf, cqMedianTableDf\n",
    "    "
   ]
  },
  {
   "cell_type": "code",
   "execution_count": null,
   "metadata": {},
   "outputs": [],
   "source": [
    "def getClinicalCallCounts(sampleName, clinicalCallCounts):\n",
    "    uniqueSamples = np.unique(sampleName)\n",
    "    callCount = []\n",
    "    uniqueCalls = []\n",
    "    mergedSamples=[]\n",
    "    for clinicalCallCount in clinicalCallCounts:\n",
    "        for samples in uniqueSamples:\n",
    "            uniqueCalls.append(clinicalCallCount)\n",
    "            mergedSamples.append(samples)\n",
    "            callCount.append(clinicalCallCounts.get(clinicalCallCount).count(samples))\n",
    "\n",
    "    listCounts = zip(mergedSamples, uniqueCalls,callCount)\n",
    "    \n",
    "    dataCountTable = pd.DataFrame(listCounts, columns=['SampleName', 'Clinical_Call','Counts'])\n",
    "    clinicalCallTable=dataCountTable.pivot(index='Clinical_Call',columns='SampleName',values='Counts')\n",
    "    return clinicalCallTable"
   ]
  },
  {
   "cell_type": "code",
   "execution_count": null,
   "metadata": {},
   "outputs": [],
   "source": [
    "def getClinicalCalls(clinicalCall, reporterDyesName, cqValues, repIdentifier):\n",
    "    bigDF = pd.DataFrame()\n",
    "    clinicalCallCounts = dict()\n",
    "    for key in clinicalCall:\n",
    "        listCqValues = []\n",
    "        for dyeName in reporterDyesName:\n",
    "            matchDyeNames = 0\n",
    "            for cqValue in cqValues.get(key):\n",
    "                dyeNameAndCq = cqValue.split(\"\\t\")\n",
    "                if dyeNameAndCq[0] == dyeName:\n",
    "                    listCqValues.append(dyeNameAndCq[1])\n",
    "                    matchDyeNames=1\n",
    "            if matchDyeNames == 0:\n",
    "                listCqValues.append(\"\")\n",
    "        \n",
    "        if any( clinicalCall.get(key)):\n",
    "            calls = list(filter(None, clinicalCall.get(key)))\n",
    "            call = \"|\".join(calls)\n",
    "        else:\n",
    "            call = \"NEG\"\n",
    "\n",
    "        d = key.split(\"\\t\")\n",
    "        listL=[d[0],d[1],d[2]]\n",
    "        listL.extend(listCqValues)\n",
    "        listL.append(call)\n",
    "        samplesNames = d[2].split(repIdentifier)\n",
    "        clinicalCallCounts.setdefault(call,[]).append(samplesNames[0])\n",
    "        dataFrame = pd.DataFrame([listL],[call])\n",
    "        bigDF = pd.concat([bigDF,dataFrame])\n",
    "        clincalCallsForEachWell = pd.DataFrame(bigDF.values[0:],columns= header)\n",
    "   \n",
    "    return clincalCallsForEachWell, clinicalCallCounts"
   ]
  },
  {
   "cell_type": "code",
   "execution_count": null,
   "metadata": {},
   "outputs": [],
   "source": [
    "repIdentifier = \"-\"\n",
    "inFolder = \"D:/Covid_data_New/Yr2023/5May/18May/\"\n",
    "inFile = inFolder+\"Plate 160 True Mark  Psyche 19 Apr 2023_20230516 125556.xlsx\"\n",
    "readSepsisFile = pd.read_excel(inFile,sheet_name=\"Results\",skiprows=23)\n",
    "\n",
    "reporterDyesName = np.unique(readSepsisFile[\"Reporter\"])\n",
    "header = ['Well','well Position','Sample']\n",
    "header.extend(reporterDyesName)\n",
    "header.append('Call')\n",
    "\n",
    "targets = readSepsisFile[\"Target\"]\n",
    "sample = readSepsisFile[\"Sample\"]\n",
    "\n",
    "sampleName = []\n",
    "for samples in sample:\n",
    "    ss = samples.split(\"-\")\n",
    "    sampleName.append(ss[0])\n",
    "cqValue = readSepsisFile[\"Cq\"]\n",
    "\n",
    "cqMeanTableDf, cqMedianTable = calculateMeanAndMedianValue(sampleName,targets,cqValue)\n"
   ]
  },
  {
   "cell_type": "code",
   "execution_count": null,
   "metadata": {},
   "outputs": [],
   "source": [
    "\n",
    "clinicalCall = dict()\n",
    "cqValues = dict()\n",
    "\n",
    "for i in readSepsisFile.index:\n",
    "    well = readSepsisFile.loc[i,\"Well\"]\n",
    "    wellPosition = readSepsisFile.loc[i,\"Well Position\"]\n",
    "    Cq = readSepsisFile.loc[i,\"Cq\"]\n",
    "    reporterDye = readSepsisFile.loc[i,\"Reporter\"]\n",
    "    targetSample = readSepsisFile.loc[i,\"Target\"]\n",
    "    keyForClinicalCall = str(well)+\"\\t\"+str(wellPosition)+\"\\t\"+str(readSepsisFile.loc[i,\"Sample\"])\n",
    "    if Cq == \"Undetermined\":\n",
    "        clinicalCall.setdefault(keyForClinicalCall,[]).append(\"\")\n",
    "        cqValues.setdefault(keyForClinicalCall,[]).append(reporterDye+\"\\t\"+str(Cq))\n",
    "        continue\n",
    "    clinicalCall.setdefault(keyForClinicalCall,[]).append(targetSample)\n",
    "    cqValues.setdefault(keyForClinicalCall,[]).append(reporterDye+\"\\t\"+str(Cq))\n"
   ]
  },
  {
   "cell_type": "code",
   "execution_count": null,
   "metadata": {},
   "outputs": [],
   "source": [
    "\n",
    "\n",
    "clincalCallsForEachWell, clinicalCallCounts = getClinicalCalls(clinicalCall, reporterDyesName, cqValues, repIdentifier)\n",
    "clinicalCallTable = getClinicalCallCounts(sampleName, clinicalCallCounts)\n",
    "\n",
    "excelWriter = pd.ExcelWriter(inFolder+\"/aa_new.xlsx\")\n",
    "clincalCallsForEachWell.to_excel(excel_writer=excelWriter,sheet_name= \"ClinicalCall\",index=False)\n",
    "cqMeanTableDf.to_excel(excel_writer=excelWriter,sheet_name= \"Mean\")\n",
    "cqMedianTable.to_excel(excel_writer=excelWriter,sheet_name= \"Median\")\n",
    "clinicalCallTable.to_excel(excel_writer=excelWriter,sheet_name= \"ClinicalCallCount\")\n",
    "excelWriter.close()"
   ]
  }
 ],
 "metadata": {
  "kernelspec": {
   "display_name": "Python 3",
   "language": "python",
   "name": "python3"
  },
  "language_info": {
   "codemirror_mode": {
    "name": "ipython",
    "version": 3
   },
   "file_extension": ".py",
   "mimetype": "text/x-python",
   "name": "python",
   "nbconvert_exporter": "python",
   "pygments_lexer": "ipython3",
   "version": "3.8.5"
  },
  "orig_nbformat": 4
 },
 "nbformat": 4,
 "nbformat_minor": 2
}
