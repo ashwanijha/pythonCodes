{
 "cells": [
  {
   "cell_type": "code",
   "execution_count": 2,
   "metadata": {},
   "outputs": [],
   "source": [
    "import pandas as pd\n",
    "infile = \"D:/Annotations_automation/ons/\"\n",
    "x= pd.read_excel(infile+\"/24MAR2023_SFSH_RRO_ST3_D1_OP1_QS5Dx_INST1_Copy_20230725_112659.xlsx\",\n",
    "                 sheet_name=\"Results\",header=None)"
   ]
  },
  {
   "cell_type": "code",
   "execution_count": 22,
   "metadata": {},
   "outputs": [
    {
     "name": "stdout",
     "output_type": "stream",
     "text": [
      "['File Name', 'Comment', 'Operator', 'Barcode', 'Instrument Type', 'Block Type', 'Instrument Name', 'Instrument Serial Number', 'Heated Cover Serial Number', 'Block serial number', 'Run Start Date/Time', 'Run End Data/Time', 'Run Duration', 'Sample Volume', 'Cover Temperature', 'Passive Reference', 'PCR Stage/Step Number', 'Quantification Cycle Method', 'Analysis Date/Time', 'Software Name and Version', 'Plugin Name and Version', 'Reduce dye signal crosstalk by algorithm', 'Exported On', 'Well Position', 'Omit', 'FLUA_CqValue', 'FLUB_CqValue', 'COV19_CqValue', 'RSVAB_CqValue', 'RNASEP_CqValue']\n"
     ]
    }
   ],
   "source": [
    "metaData = x[:23]\n",
    "completeData = x[24:]\n",
    "completeData1 = pd.DataFrame(completeData.values[1:],columns= completeData.iloc[0])\n",
    "\n",
    "mergedData = dict()\n",
    "colNames = completeData1.columns\n",
    "otherHeader = [colNames[1],colNames[2],\"FLUA_CqValue\",\"FLUB_CqValue\", \"COV19_CqValue\",\n",
    "               \"RSVAB_CqValue\",\t\"RNASEP_CqValue\"]\n",
    "#print(otherHeader)\n",
    "for l in completeData1.index:\n",
    "    wellPos = completeData1.loc[l,'Well Position']\n",
    "    sampleName = completeData1.loc[l,'Sample']\n",
    "    valueCq = completeData1.loc[l,'Cq']\n",
    "    valueMerged = str(wellPos)+\"\\t\"+str(sampleName)\n",
    "    mergedData.setdefault(valueMerged,[]).append(valueCq)\n",
    "\n",
    "metaD = []\n",
    "header = []\n",
    "j=0\n",
    "for i in metaData[0]:\n",
    "    metaD.append(metaData[1][j])\n",
    "    header.append(metaData[0][j])\n",
    "    j+=1\n",
    "\n",
    "header.extend(otherHeader)\n",
    "\n",
    "print(header)\n",
    "dataFrame = pd.DataFrame()\n",
    "\n",
    "data = []\n",
    "bigDF = pd.DataFrame()\n",
    "for da in mergedData:\n",
    "    dataForInfo = []\n",
    "    \n",
    "    tst = da.split(\"\\t\")\n",
    "    dataForInfo.extend(metaD)\n",
    "    dataForInfo.append(tst[0])\n",
    "    dataForInfo.append(tst[1])\n",
    "    dataForInfo.extend(mergedData[da])\n",
    "    datF = pd.DataFrame([dataForInfo],columns=[header])\n",
    "    bigDF = pd.concat([datF,bigDF])\n",
    "    j+=1\n",
    "\n",
    "    #bigDF = pd.concat([getInformation(metaData,completeData1,listName),bigDF])\n",
    "   # print(da,mergedData[da])\n",
    "#print(datF)    \n",
    "#print(j)\n",
    "\n",
    "\n",
    "dataFrame = pd.DataFrame([dataForInfo],[j])\n",
    "#print(bigDF)\n",
    "bigDF = bigDF[::-1]\n",
    "excelWriter = pd.ExcelWriter(infile+\"/test.xlsx\")\n",
    "bigDF.to_excel(excel_writer=excelWriter,sheet_name= \"Data\",index=False)\n",
    "excelWriter.close()\n"
   ]
  }
 ],
 "metadata": {
  "kernelspec": {
   "display_name": "Python 3",
   "language": "python",
   "name": "python3"
  },
  "language_info": {
   "codemirror_mode": {
    "name": "ipython",
    "version": 3
   },
   "file_extension": ".py",
   "mimetype": "text/x-python",
   "name": "python",
   "nbconvert_exporter": "python",
   "pygments_lexer": "ipython3",
   "version": "3.8.5"
  },
  "orig_nbformat": 4
 },
 "nbformat": 4,
 "nbformat_minor": 2
}
