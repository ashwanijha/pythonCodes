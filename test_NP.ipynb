{
 "cells": [
  {
   "cell_type": "code",
   "execution_count": 122,
   "metadata": {},
   "outputs": [],
   "source": [
    "import pandas as pd\n",
    "inputFileName = \"D:/Covid_data_New/Yr2023/Jan/Jan23/VTM/NP/allfiles/Combined_Data/Combined_LineDataFormat_NP-FInal.xlsx\"\n",
    "combinedLineData = pd.read_excel(inputFileName).replace(to_replace = \"Undetermined\", value=  \"43\")"
   ]
  },
  {
   "cell_type": "code",
   "execution_count": 123,
   "metadata": {},
   "outputs": [],
   "source": [
    "def getResultSheetData():\n",
    "    targetCqValues = {}\n",
    "    for i in combinedLineData.index:\n",
    "        sampleName = combinedLineData.loc[i,'SampleName']\n",
    "        cqValuesCol = combinedLineData.loc[i,['FLUA_CqValue','FLUB_CqValue','COV19_CqValue','RSVAB_CqValue'\n",
    "        ,'RNASEP_CqValue']]\n",
    "        targetCqValues.setdefault(sampleName,[]).append(cqValuesCol)\n",
    "    return targetCqValues"
   ]
  },
  {
   "cell_type": "code",
   "execution_count": 126,
   "metadata": {},
   "outputs": [],
   "source": [
    "cqValues= getResultSheetData()\n",
    "writer = pd.ExcelWriter(\"D:/Covid_data_New/Yr2023/Jan/Jan23/VTM/NP/allfiles/Combined_Data/a.xlsx\")\n",
    "df_list = pd.DataFrame()\n",
    "dfx = pd.DataFrame()\n",
    "for i in cqValues:\n",
    "    fluAClear = 0\n",
    "    fluBClear = 0\n",
    "    c19Clear = 0                                                        \n",
    "    rsvABClear = 0\n",
    "    rnasePClear = 0\n",
    "\n",
    "    fluAStrong = 0\n",
    "    fluBStrong = 0\n",
    "    c19Strong = 0\n",
    "    rsvABStrong = 0\n",
    "    rnasePStrong = 0\n",
    "\n",
    "    for v in cqValues[i]:\n",
    "        if float(v.FLUA_CqValue) <= 38:\n",
    "            fluAClear+=1\n",
    "        elif 43 > float(v.FLUA_CqValue) > 38:\n",
    "            fluAStrong+=1\n",
    "        if float(v.FLUB_CqValue) <= 37:\n",
    "            fluBClear+=1\n",
    "        elif 43 > float(v.FLUB_CqValue) > 37:\n",
    "            fluBStrong+=1\n",
    "        if float(v.COV19_CqValue) <= 38:\n",
    "            c19Clear+=1\n",
    "        elif 43 > float(v.COV19_CqValue) > 38:\n",
    "            c19Strong+=1\n",
    "        if float(v.RSVAB_CqValue) <= 38:\n",
    "            rsvABClear+=1\n",
    "        elif 43 > float(v.RSVAB_CqValue) > 38:\n",
    "            rsvABStrong+=1\n",
    "        if float(v.RNASEP_CqValue) < 33:\n",
    "            rnasePClear+=1\n",
    "        elif 43 > float(v.RNASEP_CqValue) > 33:\n",
    "            rnasePStrong+=1\n",
    "    listL = [fluAClear,fluBClear,c19Clear,rsvABClear,rnasePClear,fluAStrong,fluBStrong,c19Strong,rsvABStrong,rnasePStrong]\n",
    "    dfx = pd.DataFrame([listL],index=[i],columns=['Flu A','Flu B','C19','RSVAB','RNaseP','Flu A','Flu B','C19','RSVAB','RNaseP'])\n",
    "    df_list = pd.concat([df_list,dfx])\n",
    "df_list.to_excel(writer,sheet_name = \"Data1\")\n",
    "writer.close()"
   ]
  }
 ],
 "metadata": {
  "kernelspec": {
   "display_name": "Python 3",
   "language": "python",
   "name": "python3"
  },
  "language_info": {
   "codemirror_mode": {
    "name": "ipython",
    "version": 3
   },
   "file_extension": ".py",
   "mimetype": "text/x-python",
   "name": "python",
   "nbconvert_exporter": "python",
   "pygments_lexer": "ipython3",
   "version": "3.8.5 (tags/v3.8.5:580fbb0, Jul 20 2020, 15:57:54) [MSC v.1924 64 bit (AMD64)]"
  },
  "orig_nbformat": 4,
  "vscode": {
   "interpreter": {
    "hash": "2469a70536e4d2335a2ea8907942d0699c37342a371ac185bdb5b0aa6f073890"
   }
  }
 },
 "nbformat": 4,
 "nbformat_minor": 2
}
